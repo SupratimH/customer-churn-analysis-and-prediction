{
 "cells": [
  {
   "cell_type": "markdown",
   "metadata": {},
   "source": [
    "# Customer Churn in Telecom Industry : Basic Data Analysis\n",
    "What is customer churn? As per Wikipedia definition, customer churn, also known as customer attrition, customer turnover, or customer defection, is the loss of clients or customers. Customer churn rate is a key business metric in any industry and company providing services to end customers, because the cost of retaining an existing customer is far less than acquiring a new one.\n",
    "\n",
    "In a highly competitive business landscape, the ever increasing rate of customer churn or attrition is a big challenge in front of telecom service providers today. It takes subtantial effort and investment to lure in new customers, while the danger of losing existing customers to competitors is always lurking. Hence, the importance to analyze and understand the reasons of customer's churn had never been felt more. The more the CSPs are able to retain their existing customer base, the better they will perform in the long run.\n",
    "\n",
    "In this notebook, we will try to analyze the factors which contribute to the possibility of customer's churn. This analysis is performed based on the publicly available dataset from IBM.\n",
    "\n",
    "![customer-churn.jpg](https://www.livechatinc.com/wp-content/uploads/2016/04/customer-churn.jpg)\n",
    "Image Credit: https://www.livechatinc.com/wp-content/uploads/2016/04/customer-churn.jpg"
   ]
  },
  {
   "cell_type": "markdown",
   "metadata": {},
   "source": [
    "### We will follow this simple solution approach for exploratory data analysis:\n",
    "1. Read data\n",
    "2. Prepare data for Analysis\n",
    "    <br>a. Explore data\n",
    "    <br>b. Pre-process and clean-up data\n",
    "    <br>c. Analyze data (through visualization)"
   ]
  },
  {
   "cell_type": "markdown",
   "metadata": {},
   "source": [
    "## Section 1 : Read input data"
   ]
  },
  {
   "cell_type": "code",
   "execution_count": 1,
   "metadata": {},
   "outputs": [
    {
     "data": {
      "application/javascript": [
       "\n",
       "IPython.OutputArea.prototype._should_scroll = function(lines) {\n",
       "return false;\n",
       "}\n"
      ],
      "text/plain": [
       "<IPython.core.display.Javascript object>"
      ]
     },
     "metadata": {},
     "output_type": "display_data"
    }
   ],
   "source": [
    "# Perform initial setup\n",
    "from utils import *\n",
    "np.random.seed(1)"
   ]
  },
  {
   "cell_type": "code",
   "execution_count": 2,
   "metadata": {},
   "outputs": [
    {
     "data": {
      "text/html": [
       "<div>\n",
       "<style scoped>\n",
       "    .dataframe tbody tr th:only-of-type {\n",
       "        vertical-align: middle;\n",
       "    }\n",
       "\n",
       "    .dataframe tbody tr th {\n",
       "        vertical-align: top;\n",
       "    }\n",
       "\n",
       "    .dataframe thead th {\n",
       "        text-align: right;\n",
       "    }\n",
       "</style>\n",
       "<table border=\"1\" class=\"dataframe\">\n",
       "  <thead>\n",
       "    <tr style=\"text-align: right;\">\n",
       "      <th></th>\n",
       "      <th>customerID</th>\n",
       "      <th>gender</th>\n",
       "      <th>SeniorCitizen</th>\n",
       "      <th>Partner</th>\n",
       "      <th>Dependents</th>\n",
       "      <th>tenure</th>\n",
       "      <th>PhoneService</th>\n",
       "      <th>MultipleLines</th>\n",
       "      <th>InternetService</th>\n",
       "      <th>OnlineSecurity</th>\n",
       "      <th>...</th>\n",
       "      <th>DeviceProtection</th>\n",
       "      <th>TechSupport</th>\n",
       "      <th>StreamingTV</th>\n",
       "      <th>StreamingMovies</th>\n",
       "      <th>Contract</th>\n",
       "      <th>PaperlessBilling</th>\n",
       "      <th>PaymentMethod</th>\n",
       "      <th>MonthlyCharges</th>\n",
       "      <th>TotalCharges</th>\n",
       "      <th>Churn</th>\n",
       "    </tr>\n",
       "  </thead>\n",
       "  <tbody>\n",
       "    <tr>\n",
       "      <th>3381</th>\n",
       "      <td>8879-ZKJOF</td>\n",
       "      <td>Female</td>\n",
       "      <td>0</td>\n",
       "      <td>No</td>\n",
       "      <td>No</td>\n",
       "      <td>41</td>\n",
       "      <td>Yes</td>\n",
       "      <td>No</td>\n",
       "      <td>DSL</td>\n",
       "      <td>Yes</td>\n",
       "      <td>...</td>\n",
       "      <td>Yes</td>\n",
       "      <td>Yes</td>\n",
       "      <td>Yes</td>\n",
       "      <td>Yes</td>\n",
       "      <td>One year</td>\n",
       "      <td>Yes</td>\n",
       "      <td>Bank transfer (automatic)</td>\n",
       "      <td>79.85</td>\n",
       "      <td>3320.75</td>\n",
       "      <td>No</td>\n",
       "    </tr>\n",
       "    <tr>\n",
       "      <th>6180</th>\n",
       "      <td>0201-MIBOL</td>\n",
       "      <td>Female</td>\n",
       "      <td>1</td>\n",
       "      <td>No</td>\n",
       "      <td>No</td>\n",
       "      <td>66</td>\n",
       "      <td>Yes</td>\n",
       "      <td>Yes</td>\n",
       "      <td>Fiber optic</td>\n",
       "      <td>Yes</td>\n",
       "      <td>...</td>\n",
       "      <td>No</td>\n",
       "      <td>No</td>\n",
       "      <td>Yes</td>\n",
       "      <td>Yes</td>\n",
       "      <td>Two year</td>\n",
       "      <td>Yes</td>\n",
       "      <td>Bank transfer (automatic)</td>\n",
       "      <td>102.40</td>\n",
       "      <td>6471.85</td>\n",
       "      <td>No</td>\n",
       "    </tr>\n",
       "  </tbody>\n",
       "</table>\n",
       "<p>2 rows × 21 columns</p>\n",
       "</div>"
      ],
      "text/plain": [
       "      customerID  gender  SeniorCitizen Partner Dependents  tenure  \\\n",
       "3381  8879-ZKJOF  Female              0      No         No      41   \n",
       "6180  0201-MIBOL  Female              1      No         No      66   \n",
       "\n",
       "     PhoneService MultipleLines InternetService OnlineSecurity  ...   \\\n",
       "3381          Yes            No             DSL            Yes  ...    \n",
       "6180          Yes           Yes     Fiber optic            Yes  ...    \n",
       "\n",
       "     DeviceProtection TechSupport StreamingTV StreamingMovies  Contract  \\\n",
       "3381              Yes         Yes         Yes             Yes  One year   \n",
       "6180               No          No         Yes             Yes  Two year   \n",
       "\n",
       "     PaperlessBilling              PaymentMethod MonthlyCharges  TotalCharges  \\\n",
       "3381              Yes  Bank transfer (automatic)          79.85       3320.75   \n",
       "6180              Yes  Bank transfer (automatic)         102.40       6471.85   \n",
       "\n",
       "     Churn  \n",
       "3381    No  \n",
       "6180    No  \n",
       "\n",
       "[2 rows x 21 columns]"
      ]
     },
     "execution_count": 2,
     "metadata": {},
     "output_type": "execute_result"
    }
   ],
   "source": [
    "# Read the input training and test data\n",
    "input_data_path = os.path.join(\"C:\\Study\\DataSets\\\\telco-customer-churn\", \"WA_Fn-UseC_-Telco-Customer-Churn.csv\")\n",
    "train_data = pd.read_csv(input_data_path)\n",
    "train_data.sample(2)"
   ]
  },
  {
   "cell_type": "code",
   "execution_count": 3,
   "metadata": {},
   "outputs": [],
   "source": [
    "# Create column ChurnVal with - Yes = 1 and No = 0\n",
    "churn_mapping = {\"No\": 0, \"Yes\": 1}\n",
    "train_data['ChurnVal'] = train_data['Churn'].map(churn_mapping)"
   ]
  },
  {
   "cell_type": "code",
   "execution_count": 4,
   "metadata": {},
   "outputs": [
    {
     "data": {
      "text/plain": [
       "(7043, 22)"
      ]
     },
     "execution_count": 4,
     "metadata": {},
     "output_type": "execute_result"
    }
   ],
   "source": [
    "# Keep an original copy of data\n",
    "train_data_orig = train_data.copy()\n",
    "train_data_orig.shape"
   ]
  },
  {
   "cell_type": "markdown",
   "metadata": {},
   "source": [
    "### Features to be considered:\n",
    "#### Target Feature: \n",
    "* ChurnVal\n",
    "\n",
    "#### Independent Features:\n",
    "* Gender, SeniorCitizen, Partner, Dependents (either partner or dependents to be considered?), Tenure, MonthlyCharges, TotalCharges (ignore, because it is highly correlated with MonthlyCharges), Contract, PaperlessBilling, PaymentMethod, PhoneService, MultipleLines, InternetService, OnlineSecurity, OnlineBackup, DeviceProtection, TechSupport, StreamingTV, StreamingMovies"
   ]
  },
  {
   "cell_type": "code",
   "execution_count": 56,
   "metadata": {},
   "outputs": [],
   "source": [
    "# Listing all the features to be used for prediction\n",
    "features_X = ['gender','SeniorCitizen','Partner','Dependents','tenure','MonthlyCharges',\n",
    "              'Contract','PaperlessBilling','PaymentMethod','PhoneService',\n",
    "              'MultipleLines','InternetService','OnlineSecurity','OnlineBackup','DeviceProtection',\n",
    "              'TechSupport','StreamingTV','StreamingMovies']\n",
    "#features_X = ['tenure','MonthlyCharges',\n",
    "#              'Contract', 'PaymentMethod',\n",
    "#              'InternetService','OnlineSecurity','OnlineBackup',\n",
    "#              'TechSupport','StreamingTV']\n",
    "feature_Y = ['ChurnVal']\n",
    "features_all = features_X + feature_Y"
   ]
  },
  {
   "cell_type": "code",
   "execution_count": 57,
   "metadata": {},
   "outputs": [],
   "source": [
    "# Function to scale data\n",
    "def scaleData(data):\n",
    "    mean = data.mean()\n",
    "    std = data.std()\n",
    "    data = data.map(lambda x : (x - mean)/std)\n",
    "    return data\n",
    "\n",
    "\n",
    "# Function to normalize data\n",
    "def normalizeData(data):\n",
    "    min = data.min()\n",
    "    max = data.max()\n",
    "    range = max - min\n",
    "    data = data.map(lambda x : (x - min)/range)\n",
    "    return data\n",
    "    \n",
    "train_data['MonthlyCharges'] = normalizeData(train_data['MonthlyCharges'])\n",
    "train_data['tenure'] = normalizeData(train_data['tenure'])"
   ]
  },
  {
   "cell_type": "code",
   "execution_count": 58,
   "metadata": {},
   "outputs": [
    {
     "data": {
      "text/plain": [
       "(7043, 45)"
      ]
     },
     "execution_count": 58,
     "metadata": {},
     "output_type": "execute_result"
    }
   ],
   "source": [
    "# Encode the categorical features\n",
    "train_data_encoded = pd.get_dummies((train_data[features_all]))\n",
    "train_data_encoded.shape"
   ]
  },
  {
   "cell_type": "code",
   "execution_count": 59,
   "metadata": {},
   "outputs": [
    {
     "data": {
      "text/plain": [
       "((5634, 45), (1409, 45))"
      ]
     },
     "execution_count": 59,
     "metadata": {},
     "output_type": "execute_result"
    }
   ],
   "source": [
    "# Split the dataset into train and test\n",
    "# Stratify on ChurnVal, to keep class balance consistent\n",
    "# across train and test set\n",
    "from sklearn.model_selection import StratifiedShuffleSplit\n",
    "\n",
    "def splitDataStratified(train_data, splitOnCol, n_splits=1, test_size=0.2):\n",
    "    split = StratifiedShuffleSplit(n_splits=n_splits, test_size=test_size)\n",
    "    for train_index, test_index in split.split(train_data, train_data[splitOnCol]):\n",
    "        strat_train_data = train_data.loc[train_index]\n",
    "        strat_test_data = train_data.loc[test_index]\n",
    "        return strat_train_data, strat_test_data\n",
    "\n",
    "\n",
    "strat_train_data, strat_test_data = splitDataStratified(train_data_encoded, splitOnCol='ChurnVal')\n",
    "strat_train_data.shape, strat_test_data.shape"
   ]
  },
  {
   "cell_type": "code",
   "execution_count": 60,
   "metadata": {},
   "outputs": [
    {
     "name": "stdout",
     "output_type": "stream",
     "text": [
      "0    0.73463\n",
      "1    0.26537\n",
      "Name: ChurnVal, dtype: float64\n",
      "0    0.734647\n",
      "1    0.265353\n",
      "Name: ChurnVal, dtype: float64\n",
      "0    0.734564\n",
      "1    0.265436\n",
      "Name: ChurnVal, dtype: float64\n"
     ]
    }
   ],
   "source": [
    "# Verify percentage of data by target class\n",
    "print(train_data.ChurnVal.value_counts()/len(train_data))\n",
    "print(strat_train_data.ChurnVal.value_counts()/len(strat_train_data))\n",
    "print(strat_test_data.ChurnVal.value_counts()/len(strat_test_data))"
   ]
  },
  {
   "cell_type": "code",
   "execution_count": 61,
   "metadata": {},
   "outputs": [
    {
     "data": {
      "text/plain": [
       "((5634, 44), (5634, 1), (1409, 44), (1409, 1))"
      ]
     },
     "execution_count": 61,
     "metadata": {},
     "output_type": "execute_result"
    }
   ],
   "source": [
    "# Split X and y data for train and test set and orig encoded data\n",
    "strat_train_X = strat_train_data.drop(columns=feature_Y, axis=1)\n",
    "strat_train_y = strat_train_data[feature_Y]\n",
    "\n",
    "strat_test_X = strat_test_data.drop(columns=feature_Y, axis=1)\n",
    "strat_test_y = strat_test_data[feature_Y]\n",
    "\n",
    "train_data_encoded_X = train_data_encoded.drop(columns=feature_Y, axis=1)\n",
    "train_data_encoded_y = train_data_encoded[feature_Y]\n",
    "\n",
    "strat_train_X.shape, strat_train_y.shape, strat_test_X.shape, strat_test_y.shape"
   ]
  },
  {
   "cell_type": "code",
   "execution_count": 62,
   "metadata": {},
   "outputs": [
    {
     "name": "stdout",
     "output_type": "stream",
     "text": [
      "Data shape after split: (5634, 45) (1409, 45)\n",
      "0    0.73463\n",
      "1    0.26537\n",
      "Name: ChurnVal, dtype: float64\n",
      "0    0.736422\n",
      "1    0.263578\n",
      "Name: ChurnVal, dtype: float64\n",
      "0    0.727466\n",
      "1    0.272534\n",
      "Name: ChurnVal, dtype: float64\n"
     ]
    }
   ],
   "source": [
    "# Shuffle and split data\n",
    "from sklearn.model_selection import train_test_split\n",
    "\n",
    "def shuffleAndSplitData(train_data, test_size=0.2):\n",
    "    train_set, test_set = train_test_split(train_data, test_size=test_size)\n",
    "    # Now shuffle the train dataset\n",
    "    split_idx = len(train_set)\n",
    "    shuffle_index = np.random.permutation(split_idx)\n",
    "    train_set = train_set.iloc[shuffle_index]\n",
    "    return train_set, test_set\n",
    "\n",
    "train_set, test_set = shuffleAndSplitData(train_data_encoded)\n",
    "print(\"Data shape after split:\", train_set.shape, test_set.shape)\n",
    "\n",
    "# Verify percentage of data by target class\n",
    "print(train_data.ChurnVal.value_counts()/len(train_data))\n",
    "print(train_set.ChurnVal.value_counts()/len(train_set))\n",
    "print(test_set.ChurnVal.value_counts()/len(test_set))"
   ]
  },
  {
   "cell_type": "code",
   "execution_count": 63,
   "metadata": {},
   "outputs": [
    {
     "data": {
      "text/plain": [
       "((5634, 44), (5634, 1), (1409, 44), (1409, 1))"
      ]
     },
     "execution_count": 63,
     "metadata": {},
     "output_type": "execute_result"
    }
   ],
   "source": [
    "# Split X and y data for train and test set and orig encoded data\n",
    "train_X = train_set.drop(columns=feature_Y, axis=1)\n",
    "train_y = train_set[feature_Y]\n",
    "\n",
    "test_X = test_set.drop(columns=feature_Y, axis=1)\n",
    "test_y = test_set[feature_Y]\n",
    "\n",
    "train_X.shape, train_y.shape, test_X.shape, test_y.shape"
   ]
  },
  {
   "cell_type": "markdown",
   "metadata": {},
   "source": [
    "### Utility Functions"
   ]
  },
  {
   "cell_type": "code",
   "execution_count": 44,
   "metadata": {},
   "outputs": [],
   "source": [
    "from sklearn.metrics import precision_score\n",
    "from sklearn.metrics import recall_score\n",
    "from sklearn.metrics import f1_score\n",
    "from sklearn.metrics import accuracy_score\n",
    "from sklearn.metrics import roc_auc_score\n",
    "from sklearn.metrics import confusion_matrix\n",
    "\n",
    "# Check score of the model on train and test set\n",
    "def checkClassifierModelAccuracy(model, X, y, average='binary'):\n",
    "    X = X.values\n",
    "    y = y.values\n",
    "    y_pred = model.predict(X)\n",
    "    accuracy = np.mean(y == y_pred)\n",
    "    #accuracy = accuracy_score(y, y_pred, normalize=True)\n",
    "    precision = precision_score(y, y_pred, average=average)\n",
    "    recall = recall_score(y, y_pred, average=average)\n",
    "    f1 = f1_score(y, y_pred, average=average)\n",
    "    auc = roc_auc_score(y, y_pred)\n",
    "    result = (accuracy, precision, recall, f1, auc)\n",
    "    return result"
   ]
  },
  {
   "cell_type": "code",
   "execution_count": 45,
   "metadata": {},
   "outputs": [],
   "source": [
    "from sklearn.svm import LinearSVC\n",
    "from sklearn.svm import SVC\n",
    "from sklearn.linear_model import SGDClassifier\n",
    "from sklearn.linear_model import LogisticRegression\n",
    "from sklearn.tree import DecisionTreeClassifier\n",
    "from sklearn.ensemble import RandomForestClassifier\n",
    "from sklearn.neighbors import KNeighborsClassifier\n",
    "from sklearn.naive_bayes import GaussianNB\n",
    "from sklearn.neural_network import MLPClassifier\n",
    "\n",
    "\n",
    "# Prepare classification models\n",
    "def buildClassifierModel():\n",
    "    # Prepare the models\n",
    "    linsvc_clf = LinearSVC()\n",
    "    svc_clf = SVC()\n",
    "    sgd_clf = SGDClassifier()\n",
    "    logreg_clf = LogisticRegression(C=0.1, fit_intercept=False, solver='newton-cg')\n",
    "    tree_clf = DecisionTreeClassifier()\n",
    "    forest_clf = RandomForestClassifier(n_estimators=100)\n",
    "    knn_clf = KNeighborsClassifier()\n",
    "    gnb_clf = GaussianNB()\n",
    "    mlp_clf = MLPClassifier()\n",
    "    \n",
    "    clf_models = [linsvc_clf, svc_clf, sgd_clf, logreg_clf, tree_clf, forest_clf, knn_clf, gnb_clf, mlp_clf]\n",
    "    return clf_models\n",
    "   \n",
    "\n",
    "# Test classification models\n",
    "def testClassifierModels(models, train_X, train_y, test_X, test_y):\n",
    "    model_name, train_model_score, test_model_score = [], [], []\n",
    "    \n",
    "    for _clf_model in models:\n",
    "        _clf_model.fit(train_X, train_y)\n",
    "        \n",
    "        train_score = checkClassifierModelAccuracy(_clf_model, train_X, train_y)\n",
    "        train_model_score.append(train_score)\n",
    "        \n",
    "        test_score = checkClassifierModelAccuracy(_clf_model, test_X, test_y)\n",
    "        test_model_score.append(test_score)\n",
    "        \n",
    "        model_name.append(_clf_model.__class__.__name__)\n",
    "        \n",
    "    columns=['accuracy', 'precision', 'recall', 'f1_score', 'roc_auc']\n",
    "    index=model_name\n",
    "    df_train = pd.DataFrame(train_model_score, columns=columns, index=index)\n",
    "    df_test = pd.DataFrame(test_model_score, columns=columns, index=index)\n",
    "    \n",
    "    return df_train, df_test"
   ]
  },
  {
   "cell_type": "markdown",
   "metadata": {},
   "source": [
    "### Baseline Model"
   ]
  },
  {
   "cell_type": "code",
   "execution_count": 46,
   "metadata": {},
   "outputs": [
    {
     "name": "stdout",
     "output_type": "stream",
     "text": [
      "                        accuracy  precision    recall  f1_score   roc_auc\n",
      "LinearSVC               0.630693   0.652244  0.544482  0.593511  0.719813\n",
      "SVC                     0.649518   0.669276  0.457525  0.543504  0.687931\n",
      "SGDClassifier           0.562306   0.518608  0.717726  0.602132  0.738544\n",
      "LogisticRegression      0.628943   0.652482  0.553846  0.599132  0.723649\n",
      "DecisionTreeClassifier  0.612367   0.995232  0.977258  0.986163  0.987783\n",
      "RandomForestClassifier  0.611201   0.990553  0.981940  0.986228  0.989279\n",
      "KNeighborsClassifier    0.630443   0.743405  0.622074  0.677349  0.772259\n",
      "GaussianNB              0.514160   0.474499  0.840134  0.606470  0.752031\n",
      "MLPClassifier           0.620864   0.653001  0.596656  0.623558  0.741068 \n",
      "\n",
      "                         accuracy  precision    recall  f1_score   roc_auc\n",
      "LinearSVC               0.638341   0.626298  0.483957  0.546003  0.689805\n",
      "SVC                     0.658984   0.651982  0.395722  0.492512  0.659697\n",
      "SGDClassifier           0.573416   0.518595  0.671123  0.585082  0.723001\n",
      "LogisticRegression      0.639340   0.625874  0.478610  0.542424  0.687614\n",
      "DecisionTreeClassifier  0.620029   0.491279  0.451872  0.470752  0.641395\n",
      "RandomForestClassifier  0.644001   0.588235  0.427807  0.495356  0.659797\n",
      "KNeighborsClassifier    0.646665   0.598485  0.422460  0.495298  0.660022\n",
      "GaussianNB              0.519145   0.462133  0.799465  0.585700  0.731617\n",
      "MLPClassifier           0.633347   0.631579  0.513369  0.566372  0.702578\n"
     ]
    }
   ],
   "source": [
    "# Time to build and test models\n",
    "models = buildClassifierModel()\n",
    "df_train, df_test = testClassifierModels(models, strat_train_X, strat_train_y, strat_test_X, strat_test_y)\n",
    "print(df_train, '\\n\\n', df_test)"
   ]
  },
  {
   "cell_type": "code",
   "execution_count": 47,
   "metadata": {},
   "outputs": [
    {
     "data": {
      "image/png": "[encoded data removed]",
      "text/plain": [
       "<Figure size 720x576 with 2 Axes>"
      ]
     },
     "metadata": {
      "needs_background": "light"
     },
     "output_type": "display_data"
    }
   ],
   "source": [
    "fig, (axes1, axes2) = plt.subplots(2, 1, figsize=(10,8), sharex=True)\n",
    "sns.barplot(data=df_train, x='f1_score', y=df_train.index, dodge=False, ci=None, ax=axes1)\n",
    "sns.barplot(data=df_test, x='f1_score', y=df_test.index, dodge=False, ci=None, ax=axes2)\n",
    "#axes.get_legend().remove()\n",
    "axes1.set_xlim(0,1)\n",
    "axes2.set_xlim(0,1)\n",
    "axes1.set_title('Train Set', loc='right')\n",
    "axes2.set_title('Test Set', loc='right')\n",
    "plt.show()"
   ]
  },
  {
   "cell_type": "code",
   "execution_count": 48,
   "metadata": {
    "scrolled": true
   },
   "outputs": [
    {
     "data": {
      "text/html": [
       "<script type=\"text/javascript\">window.PlotlyConfig = {MathJaxConfig: 'local'};</script><script type=\"text/javascript\">if (window.MathJax) {MathJax.Hub.Config({SVG: {font: \"STIX-Web\"}});}</script><script>requirejs.config({paths: { 'plotly': ['https://cdn.plot.ly/plotly-latest.min']},});if(!window._Plotly) {require(['plotly'],function(plotly) {window._Plotly=plotly;});}</script>"
      ],
      "text/vnd.plotly.v1+html": [
       "<script type=\"text/javascript\">window.PlotlyConfig = {MathJaxConfig: 'local'};</script><script type=\"text/javascript\">if (window.MathJax) {MathJax.Hub.Config({SVG: {font: \"STIX-Web\"}});}</script><script>requirejs.config({paths: { 'plotly': ['https://cdn.plot.ly/plotly-latest.min']},});if(!window._Plotly) {require(['plotly'],function(plotly) {window._Plotly=plotly;});}</script>"
      ]
     },
     "metadata": {},
     "output_type": "display_data"
    },
    {
     "data": {
      "application/vnd.plotly.v1+json": {
       "config": {
        "linkText": "Export to plot.ly",
        "plotlyServerURL": "https://plot.ly",
        "showLink": false
       },
       "data": [
        {
         "name": "Train F1 Score",
         "orientation": "h",
         "type": "bar",
         "uid": "8b3820f0-322c-4522-aff0-3cf76f0f12c5",
         "x": [
          0.5935107546481955,
          0.5435041716328963,
          0.6021324354657688,
          0.5991316931982634,
          0.9861626729665879,
          0.9862277460530735,
          0.6773488710852149,
          0.6064703042008691,
          0.6235581964348129
         ],
         "y": [
          "LinearSVC",
          "SVC",
          "SGDClassifier",
          "LogisticRegression",
          "DecisionTreeClassifier",
          "RandomForestClassifier",
          "KNeighborsClassifier",
          "GaussianNB",
          "MLPClassifier"
         ]
        },
        {
         "name": "Test F1 Score",
         "orientation": "h",
         "type": "bar",
         "uid": "032610a7-34b3-4a5b-ada2-ebffb657150c",
         "x": [
          0.5460030165912519,
          0.4925124792013311,
          0.585081585081585,
          0.5424242424242425,
          0.4707520891364902,
          0.49535603715170273,
          0.4952978056426333,
          0.5857002938295789,
          0.5663716814159293
         ],
         "y": [
          "LinearSVC",
          "SVC",
          "SGDClassifier",
          "LogisticRegression",
          "DecisionTreeClassifier",
          "RandomForestClassifier",
          "KNeighborsClassifier",
          "GaussianNB",
          "MLPClassifier"
         ]
        }
       ],
       "layout": {
        "barmode": "group",
        "title": {
         "text": "F1 Score : Train vs Test Set"
        },
        "yaxis": {
         "automargin": true
        }
       }
      },
      "text/html": [
       "<div id=\"5fa33eff-ea30-4702-8ce5-5ac2539c296d\" style=\"height: 525px; width: 100%;\" class=\"plotly-graph-div\"></div><script type=\"text/javascript\">require([\"plotly\"], function(Plotly) { window.PLOTLYENV=window.PLOTLYENV || {};window.PLOTLYENV.BASE_URL=\"https://plot.ly\";Plotly.newPlot(\"5fa33eff-ea30-4702-8ce5-5ac2539c296d\", [{\"name\": \"Train F1 Score\", \"orientation\": \"h\", \"x\": [0.5935107546481955, 0.5435041716328963, 0.6021324354657688, 0.5991316931982634, 0.9861626729665879, 0.9862277460530735, 0.6773488710852149, 0.6064703042008691, 0.6235581964348129], \"y\": [\"LinearSVC\", \"SVC\", \"SGDClassifier\", \"LogisticRegression\", \"DecisionTreeClassifier\", \"RandomForestClassifier\", \"KNeighborsClassifier\", \"GaussianNB\", \"MLPClassifier\"], \"type\": \"bar\", \"uid\": \"8b3820f0-322c-4522-aff0-3cf76f0f12c5\"}, {\"name\": \"Test F1 Score\", \"orientation\": \"h\", \"x\": [0.5460030165912519, 0.4925124792013311, 0.585081585081585, 0.5424242424242425, 0.4707520891364902, 0.49535603715170273, 0.4952978056426333, 0.5857002938295789, 0.5663716814159293], \"y\": [\"LinearSVC\", \"SVC\", \"SGDClassifier\", \"LogisticRegression\", \"DecisionTreeClassifier\", \"RandomForestClassifier\", \"KNeighborsClassifier\", \"GaussianNB\", \"MLPClassifier\"], \"type\": \"bar\", \"uid\": \"032610a7-34b3-4a5b-ada2-ebffb657150c\"}], {\"barmode\": \"group\", \"title\": {\"text\": \"F1 Score : Train vs Test Set\"}, \"yaxis\": {\"automargin\": true}}, {\"showLink\": false, \"linkText\": \"Export to plot.ly\", \"plotlyServerURL\": \"https://plot.ly\"})});</script><script type=\"text/javascript\">window.addEventListener(\"resize\", function(){window._Plotly.Plots.resize(document.getElementById(\"5fa33eff-ea30-4702-8ce5-5ac2539c296d\"));});</script>"
      ],
      "text/vnd.plotly.v1+html": [
       "<div id=\"5fa33eff-ea30-4702-8ce5-5ac2539c296d\" style=\"height: 525px; width: 100%;\" class=\"plotly-graph-div\"></div><script type=\"text/javascript\">require([\"plotly\"], function(Plotly) { window.PLOTLYENV=window.PLOTLYENV || {};window.PLOTLYENV.BASE_URL=\"https://plot.ly\";Plotly.newPlot(\"5fa33eff-ea30-4702-8ce5-5ac2539c296d\", [{\"name\": \"Train F1 Score\", \"orientation\": \"h\", \"x\": [0.5935107546481955, 0.5435041716328963, 0.6021324354657688, 0.5991316931982634, 0.9861626729665879, 0.9862277460530735, 0.6773488710852149, 0.6064703042008691, 0.6235581964348129], \"y\": [\"LinearSVC\", \"SVC\", \"SGDClassifier\", \"LogisticRegression\", \"DecisionTreeClassifier\", \"RandomForestClassifier\", \"KNeighborsClassifier\", \"GaussianNB\", \"MLPClassifier\"], \"type\": \"bar\", \"uid\": \"8b3820f0-322c-4522-aff0-3cf76f0f12c5\"}, {\"name\": \"Test F1 Score\", \"orientation\": \"h\", \"x\": [0.5460030165912519, 0.4925124792013311, 0.585081585081585, 0.5424242424242425, 0.4707520891364902, 0.49535603715170273, 0.4952978056426333, 0.5857002938295789, 0.5663716814159293], \"y\": [\"LinearSVC\", \"SVC\", \"SGDClassifier\", \"LogisticRegression\", \"DecisionTreeClassifier\", \"RandomForestClassifier\", \"KNeighborsClassifier\", \"GaussianNB\", \"MLPClassifier\"], \"type\": \"bar\", \"uid\": \"032610a7-34b3-4a5b-ada2-ebffb657150c\"}], {\"barmode\": \"group\", \"title\": {\"text\": \"F1 Score : Train vs Test Set\"}, \"yaxis\": {\"automargin\": true}}, {\"showLink\": false, \"linkText\": \"Export to plot.ly\", \"plotlyServerURL\": \"https://plot.ly\"})});</script><script type=\"text/javascript\">window.addEventListener(\"resize\", function(){window._Plotly.Plots.resize(document.getElementById(\"5fa33eff-ea30-4702-8ce5-5ac2539c296d\"));});</script>"
      ]
     },
     "metadata": {},
     "output_type": "display_data"
    }
   ],
   "source": [
    "import plotly\n",
    "import plotly.plotly as py\n",
    "import plotly.graph_objs as go\n",
    "plotly.offline.init_notebook_mode(connected=True)\n",
    "\n",
    "model_names=df_train.index\n",
    "\n",
    "trace1 = go.Bar(\n",
    "    x=df_train['f1_score'],\n",
    "    y=model_names,\n",
    "    name='Train F1 Score',\n",
    "    orientation='h'\n",
    ")\n",
    "trace2 = go.Bar(\n",
    "    x=df_test['f1_score'],\n",
    "    y=model_names,\n",
    "    name='Test F1 Score',\n",
    "    orientation='h'\n",
    ")\n",
    "\n",
    "data = [trace1, trace2]\n",
    "layout = go.Layout(\n",
    "    title='F1 Score : Train vs Test Set',\n",
    "    barmode='group',\n",
    "    yaxis=go.layout.YAxis(\n",
    "        automargin=True\n",
    "    )\n",
    ")\n",
    "\n",
    "fig = go.Figure(data=data, layout=layout)\n",
    "plotly.offline.iplot(fig, image_width=200, image_height=200)"
   ]
  },
  {
   "cell_type": "code",
   "execution_count": 34,
   "metadata": {},
   "outputs": [],
   "source": [
    "# From a RF or DT, find out the importance of\n",
    "# each feature, in descending order of score\n",
    "def extractFeatureImportance(features):\n",
    "    imp_dict = {}\n",
    "    \n",
    "    for name, val in features:\n",
    "        name0 = name.split('_')[0]\n",
    "        if name0 in imp_dict:\n",
    "            imp_dict[name0] = imp_dict[name0] + val\n",
    "        else:\n",
    "            imp_dict[name0] = val\n",
    "    \n",
    "    imp_dict = sorted(imp_dict.items(), reverse=True, key=lambda x : x[1])\n",
    "    return imp_dict"
   ]
  },
  {
   "cell_type": "markdown",
   "metadata": {},
   "source": [
    "### Try out Decision Tree"
   ]
  },
  {
   "cell_type": "code",
   "execution_count": 49,
   "metadata": {},
   "outputs": [
    {
     "name": "stdout",
     "output_type": "stream",
     "text": [
      "Fitting 5 folds for each of 120 candidates, totalling 600 fits\n"
     ]
    },
    {
     "name": "stderr",
     "output_type": "stream",
     "text": [
      "[Parallel(n_jobs=-1)]: Using backend LokyBackend with 4 concurrent workers.\n",
      "[Parallel(n_jobs=-1)]: Done  46 tasks      | elapsed:    9.0s\n"
     ]
    },
    {
     "name": "stdout",
     "output_type": "stream",
     "text": [
      "grid_search.best_params_ = {'max_depth': 20, 'max_features': 'sqrt', 'max_leaf_nodes': 20, 'splitter': 'random'}\n",
      "grid_search.best_score_ = 0.7904302143972739\n",
      "grid_search.best_estimator_ = DecisionTreeClassifier(class_weight=None, criterion='gini', max_depth=20,\n",
      "            max_features='sqrt', max_leaf_nodes=20,\n",
      "            min_impurity_decrease=0.0, min_impurity_split=None,\n",
      "            min_samples_leaf=1, min_samples_split=2,\n",
      "            min_weight_fraction_leaf=0.0, presort=False, random_state=None,\n",
      "            splitter='random')\n"
     ]
    },
    {
     "name": "stderr",
     "output_type": "stream",
     "text": [
      "[Parallel(n_jobs=-1)]: Done 600 out of 600 | elapsed:   11.8s finished\n"
     ]
    }
   ],
   "source": [
    "# GridSearchCV to find optimal parameters on DecisionTreeClassifier\n",
    "from sklearn.model_selection import GridSearchCV\n",
    "\n",
    "param_grid = [{'splitter' : ['best', 'random'], 'max_features' : ['auto', 'sqrt', 'log2'],\n",
    "               'max_depth': [2, 5, 10, 20, None], 'max_leaf_nodes' : [5, 10, 20, None]\n",
    "              }]\n",
    "\n",
    "tree_gs_clf = DecisionTreeClassifier()\n",
    "grid_search = GridSearchCV(tree_gs_clf, param_grid, cv=5, n_jobs=-1, verbose=1)\n",
    "grid_search.fit(train_data_encoded_X, train_data_encoded_y.values.ravel())\n",
    "\n",
    "print(\"grid_search.best_params_ =\", grid_search.best_params_)\n",
    "print(\"grid_search.best_score_ =\", grid_search.best_score_)\n",
    "print(\"grid_search.best_estimator_ =\", grid_search.best_estimator_)"
   ]
  },
  {
   "cell_type": "code",
   "execution_count": 50,
   "metadata": {},
   "outputs": [
    {
     "name": "stdout",
     "output_type": "stream",
     "text": [
      "Important features as per Decision Tree:\n"
     ]
    },
    {
     "data": {
      "text/plain": [
       "[('Contract', 0.3686658195431701),\n",
       " ('TechSupport', 0.19217462624812984),\n",
       " ('tenure', 0.177513483725218),\n",
       " ('InternetService', 0.1558461079056405),\n",
       " ('PaymentMethod', 0.06937706410317432),\n",
       " ('OnlineSecurity', 0.015339113562404154),\n",
       " ('OnlineBackup', 0.01329859277175428),\n",
       " ('StreamingTV', 0.0077851921405086896),\n",
       " ('MonthlyCharges', 0.0)]"
      ]
     },
     "execution_count": 50,
     "metadata": {},
     "output_type": "execute_result"
    }
   ],
   "source": [
    "# List feature importance based on above classifier\n",
    "estimator = grid_search.best_estimator_\n",
    "feature_importances = sorted(zip(train_data_encoded_X.columns, estimator.feature_importances_), reverse=True, key=lambda x : x[1])\n",
    "important_features = extractFeatureImportance(feature_importances)\n",
    "print(\"Important features as per Decision Tree:\")\n",
    "important_features"
   ]
  },
  {
   "cell_type": "code",
   "execution_count": 51,
   "metadata": {},
   "outputs": [
    {
     "data": {
      "image/png": "[encoded data removed]",
      "text/plain": [
       "<Figure size 576x288 with 1 Axes>"
      ]
     },
     "metadata": {
      "needs_background": "light"
     },
     "output_type": "display_data"
    }
   ],
   "source": [
    "# Plot a precision-recall curve for above classifier\n",
    "# and find optimal probability threshold for positive target class\n",
    "from sklearn.metrics import precision_recall_curve\n",
    "\n",
    "y_pred_proba = estimator.predict_proba(train_data_encoded_X)\n",
    "precisions, recalls, thresholds = precision_recall_curve(train_data_encoded_y, y_pred_proba[:,1])\n",
    "\n",
    "def plot_precision_recall_vs_threshold(precisions, recalls, thresholds):\n",
    "    plt.plot(thresholds, precisions[:-1], \"b--\", label=\"Precision\", linewidth=2)\n",
    "    plt.plot(thresholds, recalls[:-1], \"g-\", label=\"Recall\", linewidth=2)\n",
    "    plt.xlabel(\"Threshold\")\n",
    "    plt.legend(loc=\"upper right\")\n",
    "    plt.ylim([0, 1])\n",
    "\n",
    "plt.figure(figsize=(8, 4))\n",
    "plot_precision_recall_vs_threshold(precisions, recalls, thresholds)\n",
    "#plt.xlim([-1, 1])\n",
    "plt.grid()\n",
    "plt.show()"
   ]
  },
  {
   "cell_type": "code",
   "execution_count": 52,
   "metadata": {},
   "outputs": [
    {
     "name": "stdout",
     "output_type": "stream",
     "text": [
      "Decision Tree Score: (0.6275591033268406, 0.6185438705662726, 0.5318352059925093, 0.5719217491369389, 0.7066791028029806)\n"
     ]
    },
    {
     "data": {
      "image/png": "[encoded data removed]",
      "text/plain": [
       "<Figure size 432x288 with 1 Axes>"
      ]
     },
     "metadata": {
      "needs_background": "light"
     },
     "output_type": "display_data"
    }
   ],
   "source": [
    "# Find confusion matrix based on above threshold value\n",
    "print(\"Decision Tree Score:\", checkClassifierModelAccuracy(estimator, train_data_encoded_X, train_data_encoded_y))\n",
    "\n",
    "proba_threshold = 0.5\n",
    "y_pred = estimator.predict_proba(train_data_encoded_X)\n",
    "y_pred = np.where(y_pred[:,1] >= proba_threshold, 1, 0)\n",
    "\n",
    "conf_matrix = confusion_matrix(train_data_encoded_y, y_pred, labels = [1,0])\n",
    "norm_conf_matrix = np.sum(conf_matrix, axis=1, keepdims=True)\n",
    "norm_conf_matrix = conf_matrix/norm_conf_matrix\n",
    "sns.heatmap(conf_matrix.T, annot=True, fmt=\"d\", square=True, cbar=False, \n",
    "            cmap=plt.cm.gray, xticklabels=[1,0], yticklabels=[1,0])\n",
    "plt.ylabel('Predicted')\n",
    "plt.xlabel('Actual')\n",
    "plt.show()"
   ]
  },
  {
   "cell_type": "code",
   "execution_count": 53,
   "metadata": {},
   "outputs": [
    {
     "name": "stdout",
     "output_type": "stream",
     "text": [
      "Decision Tree Score: (0.6275591033268406, 0.6185438705662726, 0.5318352059925093, 0.5719217491369389, 0.7066791028029806)\n",
      "Precision = 0.6185438705662726\n",
      "Recall = 0.5318352059925093\n",
      "Score = 0.7887263950021298\n"
     ]
    },
    {
     "data": {
      "image/png": "[encoded data removed]",
      "text/plain": [
       "<Figure size 432x288 with 1 Axes>"
      ]
     },
     "metadata": {
      "needs_background": "light"
     },
     "output_type": "display_data"
    }
   ],
   "source": [
    "# Plot confusion matrix for optimal classifier\n",
    "print(\"Decision Tree Score:\", checkClassifierModelAccuracy(estimator, train_data_encoded_X, train_data_encoded_y))\n",
    "\n",
    "y_pred = estimator.predict(train_data_encoded_X)\n",
    "print(\"Precision =\", precision_score(train_data_encoded_y, y_pred))\n",
    "print(\"Recall =\", recall_score(train_data_encoded_y, y_pred, average='binary'))\n",
    "print(\"Score =\", estimator.score(train_data_encoded_X, train_data_encoded_y))\n",
    "\n",
    "conf_matrix = confusion_matrix(train_data_encoded_y, y_pred, labels = [1,0])\n",
    "sns.heatmap(conf_matrix.T, annot=True, fmt=\"d\", square=True, cbar=False, \n",
    "            cmap=plt.cm.gray, xticklabels=[1,0], yticklabels=[1,0])\n",
    "plt.ylabel('Predicted')\n",
    "plt.xlabel('Actual')\n",
    "plt.show()"
   ]
  },
  {
   "cell_type": "markdown",
   "metadata": {},
   "source": [
    "### Explore more on Random Forest"
   ]
  },
  {
   "cell_type": "code",
   "execution_count": 54,
   "metadata": {},
   "outputs": [
    {
     "name": "stdout",
     "output_type": "stream",
     "text": [
      "Fitting 5 folds for each of 75 candidates, totalling 375 fits\n"
     ]
    },
    {
     "name": "stderr",
     "output_type": "stream",
     "text": [
      "[Parallel(n_jobs=-1)]: Using backend LokyBackend with 4 concurrent workers.\n",
      "[Parallel(n_jobs=-1)]: Done  42 tasks      | elapsed:   11.3s\n",
      "[Parallel(n_jobs=-1)]: Done 192 tasks      | elapsed:  1.3min\n",
      "[Parallel(n_jobs=-1)]: Done 375 out of 375 | elapsed:  3.4min finished\n"
     ]
    },
    {
     "name": "stdout",
     "output_type": "stream",
     "text": [
      "grid_search.best_params_ = {'max_depth': 5, 'max_features': None, 'n_estimators': 200}\n",
      "grid_search.best_score_ = 0.7988073264233991\n",
      "grid_search.best_estimator_ = RandomForestClassifier(bootstrap=True, class_weight=None, criterion='gini',\n",
      "            max_depth=5, max_features=None, max_leaf_nodes=None,\n",
      "            min_impurity_decrease=0.0, min_impurity_split=None,\n",
      "            min_samples_leaf=1, min_samples_split=2,\n",
      "            min_weight_fraction_leaf=0.0, n_estimators=200, n_jobs=None,\n",
      "            oob_score=False, random_state=None, verbose=0,\n",
      "            warm_start=False)\n"
     ]
    }
   ],
   "source": [
    "# GridSearchCV to find optimal parameters on RandomForestClassifier\n",
    "from sklearn.model_selection import GridSearchCV\n",
    "\n",
    "param_grid = [{'n_estimators': [10, 50, 100, 200, 300], 'max_features' : [None, 'sqrt', 'log2'], \n",
    "               'max_depth': [2, 5, 10, 20, None],\n",
    "               #'oob_score' : ['True', 'False']\n",
    "              }]\n",
    "\n",
    "rf_gs_clf = RandomForestClassifier()\n",
    "grid_search = GridSearchCV(rf_gs_clf, param_grid, cv=5, n_jobs=-1, verbose=1)\n",
    "grid_search.fit(train_data_encoded_X, train_data_encoded_y.values.ravel())\n",
    "\n",
    "print(\"grid_search.best_params_ =\", grid_search.best_params_)\n",
    "print(\"grid_search.best_score_ =\", grid_search.best_score_)\n",
    "print(\"grid_search.best_estimator_ =\", grid_search.best_estimator_)"
   ]
  },
  {
   "cell_type": "code",
   "execution_count": 64,
   "metadata": {},
   "outputs": [
    {
     "name": "stdout",
     "output_type": "stream",
     "text": [
      "RF on Train with Normal Split: (0.5209816937557346, 0.4768211920529801, 0.8242424242424242, 0.6041461006910168, 0.7502749841144634)\n",
      "RF on Test Normal Split: (0.522439896417686, 0.5023622047244094, 0.8307291666666666, 0.6261040235525024, 0.7612182418699186)\n",
      "RF on Train with Stratified Split: (0.5180753826260738, 0.4776923076923077, 0.8307692307692308, 0.6065934065934065, 0.7513353281171595)\n",
      "RF on Test Stratified Split: (0.5108208863128192, 0.46875, 0.8422459893048129, 0.6022944550669216, 0.7486592265364644)\n"
     ]
    }
   ],
   "source": [
    "# Running RF on original data\n",
    "forest_clf = RandomForestClassifier(max_depth=2, max_features='log2', n_estimators=200, class_weight='balanced')\n",
    "\n",
    "forest_clf.fit(train_X, train_y)\n",
    "print(\"RF on Train with Normal Split:\", checkClassifierModelAccuracy(forest_clf, train_X, train_y))\n",
    "print(\"RF on Test Normal Split:\", checkClassifierModelAccuracy(forest_clf, test_X, test_y))\n",
    "\n",
    "forest_clf.fit(strat_train_X, strat_train_y)\n",
    "print(\"RF on Train with Stratified Split:\", checkClassifierModelAccuracy(forest_clf, strat_train_X, strat_train_y))\n",
    "print(\"RF on Test Stratified Split:\", checkClassifierModelAccuracy(forest_clf, strat_test_X, strat_test_y))"
   ]
  },
  {
   "cell_type": "code",
   "execution_count": 35,
   "metadata": {},
   "outputs": [
    {
     "name": "stdout",
     "output_type": "stream",
     "text": [
      "Important features as per Random Forest:\n"
     ]
    },
    {
     "data": {
      "text/plain": [
       "[('Contract', 0.3471073317162715),\n",
       " ('TechSupport', 0.15036150455540234),\n",
       " ('OnlineSecurity', 0.14710450611247278),\n",
       " ('tenure', 0.11478064706623113),\n",
       " ('InternetService', 0.07798614923769699),\n",
       " ('OnlineBackup', 0.05816077704722312),\n",
       " ('PaymentMethod', 0.04728755818669161),\n",
       " ('StreamingTV', 0.03808910038471105),\n",
       " ('MonthlyCharges', 0.010841152270984589),\n",
       " ('PaperlessBilling', 0.006542604591521974),\n",
       " ('StreamingMovies', 0.0016415299032469862),\n",
       " ('gender', 9.713892754586251e-05),\n",
       " ('PhoneService', 0.0)]"
      ]
     },
     "execution_count": 35,
     "metadata": {},
     "output_type": "execute_result"
    }
   ],
   "source": [
    "# List feature importance based on above predictions\n",
    "feature_importances = sorted(zip(strat_train_X.columns, forest_clf.feature_importances_), reverse=True, key=lambda x : x[1])\n",
    "important_features = extractFeatureImportance(feature_importances)\n",
    "print(\"Important features as per Random Forest:\")\n",
    "important_features"
   ]
  },
  {
   "cell_type": "code",
   "execution_count": 27,
   "metadata": {},
   "outputs": [
    {
     "data": {
      "image/svg+xml": [
       "<svg height=\"671pt\" viewBox=\"0.00 0.00 4632.00 671.00\" width=\"4632pt\" xmlns=\"http://www.w3.org/2000/svg\" xmlns:xlink=\"http://www.w3.org/1999/xlink\">\n",
       "<g class=\"graph\" id=\"graph0\" transform=\"scale(1 1) rotate(0) translate(4 667)\">\n",
       "<title>Tree</title>\n",
       "<polygon fill=\"white\" points=\"-4,4 -4,-667 4628,-667 4628,4 -4,4\" stroke=\"none\"/>\n",
       "<!-- 0 -->\n",
       "<g class=\"node\" id=\"node1\"><title>0</title>\n",
       "<polygon fill=\"#399de5\" fill-opacity=\"0.003922\" points=\"2420.5,-663 2214.5,-663 2214.5,-580 2420.5,-580 2420.5,-663\" stroke=\"black\"/>\n",
       "<text font-family=\"Times New Roman,serif\" font-size=\"14.00\" text-anchor=\"middle\" x=\"2317.5\" y=\"-647.8\">Contract_Month-to-month &lt;= 0.5</text>\n",
       "<text font-family=\"Times New Roman,serif\" font-size=\"14.00\" text-anchor=\"middle\" x=\"2317.5\" y=\"-632.8\">gini = 0.5</text>\n",
       "<text font-family=\"Times New Roman,serif\" font-size=\"14.00\" text-anchor=\"middle\" x=\"2317.5\" y=\"-617.8\">samples = 100.0%</text>\n",
       "<text font-family=\"Times New Roman,serif\" font-size=\"14.00\" text-anchor=\"middle\" x=\"2317.5\" y=\"-602.8\">value = [0.499, 0.501]</text>\n",
       "<text font-family=\"Times New Roman,serif\" font-size=\"14.00\" text-anchor=\"middle\" x=\"2317.5\" y=\"-587.8\">class = Yes</text>\n",
       "</g>\n",
       "<!-- 1 -->\n",
       "<g class=\"node\" id=\"node2\"><title>1</title>\n",
       "<polygon fill=\"#e58139\" fill-opacity=\"0.796078\" points=\"1857.5,-544 1693.5,-544 1693.5,-461 1857.5,-461 1857.5,-544\" stroke=\"black\"/>\n",
       "<text font-family=\"Times New Roman,serif\" font-size=\"14.00\" text-anchor=\"middle\" x=\"1775.5\" y=\"-528.8\">MonthlyCharges &lt;= 99.95</text>\n",
       "<text font-family=\"Times New Roman,serif\" font-size=\"14.00\" text-anchor=\"middle\" x=\"1775.5\" y=\"-513.8\">gini = 0.282</text>\n",
       "<text font-family=\"Times New Roman,serif\" font-size=\"14.00\" text-anchor=\"middle\" x=\"1775.5\" y=\"-498.8\">samples = 44.0%</text>\n",
       "<text font-family=\"Times New Roman,serif\" font-size=\"14.00\" text-anchor=\"middle\" x=\"1775.5\" y=\"-483.8\">value = [0.83, 0.17]</text>\n",
       "<text font-family=\"Times New Roman,serif\" font-size=\"14.00\" text-anchor=\"middle\" x=\"1775.5\" y=\"-468.8\">class = No</text>\n",
       "</g>\n",
       "<!-- 0&#45;&gt;1 -->\n",
       "<g class=\"edge\" id=\"edge1\"><title>0-&gt;1</title>\n",
       "<path d=\"M2214.28,-598.218C2114.16,-576.606 1963.68,-544.121 1867.54,-523.368\" fill=\"none\" stroke=\"black\"/>\n",
       "<polygon fill=\"black\" points=\"1868.05,-519.898 1857.54,-521.209 1866.57,-526.741 1868.05,-519.898\" stroke=\"black\"/>\n",
       "<text font-family=\"Times New Roman,serif\" font-size=\"14.00\" text-anchor=\"middle\" x=\"1871.09\" y=\"-538.519\">True</text>\n",
       "</g>\n",
       "<!-- 30 -->\n",
       "<g class=\"node\" id=\"node31\"><title>30</title>\n",
       "<polygon fill=\"#399de5\" fill-opacity=\"0.498039\" points=\"2899,-544 2742,-544 2742,-461 2899,-461 2899,-544\" stroke=\"black\"/>\n",
       "<text font-family=\"Times New Roman,serif\" font-size=\"14.00\" text-anchor=\"middle\" x=\"2820.5\" y=\"-528.8\">TechSupport_No &lt;= 0.5</text>\n",
       "<text font-family=\"Times New Roman,serif\" font-size=\"14.00\" text-anchor=\"middle\" x=\"2820.5\" y=\"-513.8\">gini = 0.445</text>\n",
       "<text font-family=\"Times New Roman,serif\" font-size=\"14.00\" text-anchor=\"middle\" x=\"2820.5\" y=\"-498.8\">samples = 56.0%</text>\n",
       "<text font-family=\"Times New Roman,serif\" font-size=\"14.00\" text-anchor=\"middle\" x=\"2820.5\" y=\"-483.8\">value = [0.334, 0.666]</text>\n",
       "<text font-family=\"Times New Roman,serif\" font-size=\"14.00\" text-anchor=\"middle\" x=\"2820.5\" y=\"-468.8\">class = Yes</text>\n",
       "</g>\n",
       "<!-- 0&#45;&gt;30 -->\n",
       "<g class=\"edge\" id=\"edge30\"><title>0-&gt;30</title>\n",
       "<path d=\"M2420.5,-596.541C2512.25,-575.201 2645.07,-544.307 2732.09,-524.066\" fill=\"none\" stroke=\"black\"/>\n",
       "<polygon fill=\"black\" points=\"2732.99,-527.449 2741.94,-521.774 2731.4,-520.631 2732.99,-527.449\" stroke=\"black\"/>\n",
       "<text font-family=\"Times New Roman,serif\" font-size=\"14.00\" text-anchor=\"middle\" x=\"2728.72\" y=\"-539.297\">False</text>\n",
       "</g>\n",
       "<!-- 2 -->\n",
       "<g class=\"node\" id=\"node3\"><title>2</title>\n",
       "<polygon fill=\"#e58139\" fill-opacity=\"0.870588\" points=\"1001.5,-425 837.5,-425 837.5,-342 1001.5,-342 1001.5,-425\" stroke=\"black\"/>\n",
       "<text font-family=\"Times New Roman,serif\" font-size=\"14.00\" text-anchor=\"middle\" x=\"919.5\" y=\"-409.8\">OnlineSecurity_No &lt;= 0.5</text>\n",
       "<text font-family=\"Times New Roman,serif\" font-size=\"14.00\" text-anchor=\"middle\" x=\"919.5\" y=\"-394.8\">gini = 0.202</text>\n",
       "<text font-family=\"Times New Roman,serif\" font-size=\"14.00\" text-anchor=\"middle\" x=\"919.5\" y=\"-379.8\">samples = 36.0%</text>\n",
       "<text font-family=\"Times New Roman,serif\" font-size=\"14.00\" text-anchor=\"middle\" x=\"919.5\" y=\"-364.8\">value = [0.886, 0.114]</text>\n",
       "<text font-family=\"Times New Roman,serif\" font-size=\"14.00\" text-anchor=\"middle\" x=\"919.5\" y=\"-349.8\">class = No</text>\n",
       "</g>\n",
       "<!-- 1&#45;&gt;2 -->\n",
       "<g class=\"edge\" id=\"edge2\"><title>1-&gt;2</title>\n",
       "<path d=\"M1693.42,-490.282C1533.18,-468.38 1179.73,-420.069 1011.7,-397.103\" fill=\"none\" stroke=\"black\"/>\n",
       "<polygon fill=\"black\" points=\"1012.02,-393.614 1001.64,-395.727 1011.08,-400.549 1012.02,-393.614\" stroke=\"black\"/>\n",
       "</g>\n",
       "<!-- 17 -->\n",
       "<g class=\"node\" id=\"node18\"><title>17</title>\n",
       "<polygon fill=\"#e58139\" fill-opacity=\"0.403922\" points=\"1845,-425 1706,-425 1706,-342 1845,-342 1845,-425\" stroke=\"black\"/>\n",
       "<text font-family=\"Times New Roman,serif\" font-size=\"14.00\" text-anchor=\"middle\" x=\"1775.5\" y=\"-409.8\">tenure &lt;= 70.5</text>\n",
       "<text font-family=\"Times New Roman,serif\" font-size=\"14.00\" text-anchor=\"middle\" x=\"1775.5\" y=\"-394.8\">gini = 0.468</text>\n",
       "<text font-family=\"Times New Roman,serif\" font-size=\"14.00\" text-anchor=\"middle\" x=\"1775.5\" y=\"-379.8\">samples = 8.1%</text>\n",
       "<text font-family=\"Times New Roman,serif\" font-size=\"14.00\" text-anchor=\"middle\" x=\"1775.5\" y=\"-364.8\">value = [0.627, 0.373]</text>\n",
       "<text font-family=\"Times New Roman,serif\" font-size=\"14.00\" text-anchor=\"middle\" x=\"1775.5\" y=\"-349.8\">class = No</text>\n",
       "</g>\n",
       "<!-- 1&#45;&gt;17 -->\n",
       "<g class=\"edge\" id=\"edge17\"><title>1-&gt;17</title>\n",
       "<path d=\"M1775.5,-460.907C1775.5,-452.649 1775.5,-443.864 1775.5,-435.302\" fill=\"none\" stroke=\"black\"/>\n",
       "<polygon fill=\"black\" points=\"1779,-435.021 1775.5,-425.021 1772,-435.021 1779,-435.021\" stroke=\"black\"/>\n",
       "</g>\n",
       "<!-- 3 -->\n",
       "<g class=\"node\" id=\"node4\"><title>3</title>\n",
       "<polygon fill=\"#e58139\" fill-opacity=\"0.933333\" points=\"586.5,-306 336.5,-306 336.5,-223 586.5,-223 586.5,-306\" stroke=\"black\"/>\n",
       "<text font-family=\"Times New Roman,serif\" font-size=\"14.00\" text-anchor=\"middle\" x=\"461.5\" y=\"-290.8\">PaymentMethod_Electronic check &lt;= 0.5</text>\n",
       "<text font-family=\"Times New Roman,serif\" font-size=\"14.00\" text-anchor=\"middle\" x=\"461.5\" y=\"-275.8\">gini = 0.119</text>\n",
       "<text font-family=\"Times New Roman,serif\" font-size=\"14.00\" text-anchor=\"middle\" x=\"461.5\" y=\"-260.8\">samples = 27.6%</text>\n",
       "<text font-family=\"Times New Roman,serif\" font-size=\"14.00\" text-anchor=\"middle\" x=\"461.5\" y=\"-245.8\">value = [0.937, 0.063]</text>\n",
       "<text font-family=\"Times New Roman,serif\" font-size=\"14.00\" text-anchor=\"middle\" x=\"461.5\" y=\"-230.8\">class = No</text>\n",
       "</g>\n",
       "<!-- 2&#45;&gt;3 -->\n",
       "<g class=\"edge\" id=\"edge3\"><title>2-&gt;3</title>\n",
       "<path d=\"M837.354,-361.515C770.455,-344.425 674.633,-319.947 596.486,-299.983\" fill=\"none\" stroke=\"black\"/>\n",
       "<polygon fill=\"black\" points=\"597.115,-296.532 586.56,-297.448 595.383,-303.314 597.115,-296.532\" stroke=\"black\"/>\n",
       "</g>\n",
       "<!-- 10 -->\n",
       "<g class=\"node\" id=\"node11\"><title>10</title>\n",
       "<polygon fill=\"#e58139\" fill-opacity=\"0.650980\" points=\"989,-306 850,-306 850,-223 989,-223 989,-306\" stroke=\"black\"/>\n",
       "<text font-family=\"Times New Roman,serif\" font-size=\"14.00\" text-anchor=\"middle\" x=\"919.5\" y=\"-290.8\">tenure &lt;= 46.5</text>\n",
       "<text font-family=\"Times New Roman,serif\" font-size=\"14.00\" text-anchor=\"middle\" x=\"919.5\" y=\"-275.8\">gini = 0.384</text>\n",
       "<text font-family=\"Times New Roman,serif\" font-size=\"14.00\" text-anchor=\"middle\" x=\"919.5\" y=\"-260.8\">samples = 8.4%</text>\n",
       "<text font-family=\"Times New Roman,serif\" font-size=\"14.00\" text-anchor=\"middle\" x=\"919.5\" y=\"-245.8\">value = [0.741, 0.259]</text>\n",
       "<text font-family=\"Times New Roman,serif\" font-size=\"14.00\" text-anchor=\"middle\" x=\"919.5\" y=\"-230.8\">class = No</text>\n",
       "</g>\n",
       "<!-- 2&#45;&gt;10 -->\n",
       "<g class=\"edge\" id=\"edge10\"><title>2-&gt;10</title>\n",
       "<path d=\"M919.5,-341.907C919.5,-333.649 919.5,-324.864 919.5,-316.302\" fill=\"none\" stroke=\"black\"/>\n",
       "<polygon fill=\"black\" points=\"923,-316.021 919.5,-306.021 916,-316.021 923,-316.021\" stroke=\"black\"/>\n",
       "</g>\n",
       "<!-- 4 -->\n",
       "<g class=\"node\" id=\"node5\"><title>4</title>\n",
       "<polygon fill=\"#e58139\" fill-opacity=\"0.956863\" points=\"297.5,-187 127.5,-187 127.5,-104 297.5,-104 297.5,-187\" stroke=\"black\"/>\n",
       "<text font-family=\"Times New Roman,serif\" font-size=\"14.00\" text-anchor=\"middle\" x=\"212.5\" y=\"-171.8\">MonthlyCharges &lt;= 64.375</text>\n",
       "<text font-family=\"Times New Roman,serif\" font-size=\"14.00\" text-anchor=\"middle\" x=\"212.5\" y=\"-156.8\">gini = 0.082</text>\n",
       "<text font-family=\"Times New Roman,serif\" font-size=\"14.00\" text-anchor=\"middle\" x=\"212.5\" y=\"-141.8\">samples = 24.6%</text>\n",
       "<text font-family=\"Times New Roman,serif\" font-size=\"14.00\" text-anchor=\"middle\" x=\"212.5\" y=\"-126.8\">value = [0.957, 0.043]</text>\n",
       "<text font-family=\"Times New Roman,serif\" font-size=\"14.00\" text-anchor=\"middle\" x=\"212.5\" y=\"-111.8\">class = No</text>\n",
       "</g>\n",
       "<!-- 3&#45;&gt;4 -->\n",
       "<g class=\"edge\" id=\"edge4\"><title>3-&gt;4</title>\n",
       "<path d=\"M375.111,-222.907C353.136,-212.582 329.408,-201.433 307.05,-190.927\" fill=\"none\" stroke=\"black\"/>\n",
       "<polygon fill=\"black\" points=\"308.434,-187.71 297.895,-186.625 305.457,-194.046 308.434,-187.71\" stroke=\"black\"/>\n",
       "</g>\n",
       "<!-- 7 -->\n",
       "<g class=\"node\" id=\"node8\"><title>7</title>\n",
       "<polygon fill=\"#e58139\" fill-opacity=\"0.725490\" points=\"542,-187 381,-187 381,-104 542,-104 542,-187\" stroke=\"black\"/>\n",
       "<text font-family=\"Times New Roman,serif\" font-size=\"14.00\" text-anchor=\"middle\" x=\"461.5\" y=\"-171.8\">OnlineBackup_No &lt;= 0.5</text>\n",
       "<text font-family=\"Times New Roman,serif\" font-size=\"14.00\" text-anchor=\"middle\" x=\"461.5\" y=\"-156.8\">gini = 0.338</text>\n",
       "<text font-family=\"Times New Roman,serif\" font-size=\"14.00\" text-anchor=\"middle\" x=\"461.5\" y=\"-141.8\">samples = 2.9%</text>\n",
       "<text font-family=\"Times New Roman,serif\" font-size=\"14.00\" text-anchor=\"middle\" x=\"461.5\" y=\"-126.8\">value = [0.785, 0.215]</text>\n",
       "<text font-family=\"Times New Roman,serif\" font-size=\"14.00\" text-anchor=\"middle\" x=\"461.5\" y=\"-111.8\">class = No</text>\n",
       "</g>\n",
       "<!-- 3&#45;&gt;7 -->\n",
       "<g class=\"edge\" id=\"edge7\"><title>3-&gt;7</title>\n",
       "<path d=\"M461.5,-222.907C461.5,-214.649 461.5,-205.864 461.5,-197.302\" fill=\"none\" stroke=\"black\"/>\n",
       "<polygon fill=\"black\" points=\"465,-197.021 461.5,-187.021 458,-197.021 465,-197.021\" stroke=\"black\"/>\n",
       "</g>\n",
       "<!-- 5 -->\n",
       "<g class=\"node\" id=\"node6\"><title>5</title>\n",
       "<polygon fill=\"#e58139\" fill-opacity=\"0.980392\" points=\"125,-68 0,-68 0,-0 125,-0 125,-68\" stroke=\"black\"/>\n",
       "<text font-family=\"Times New Roman,serif\" font-size=\"14.00\" text-anchor=\"middle\" x=\"62.5\" y=\"-52.8\">gini = 0.04</text>\n",
       "<text font-family=\"Times New Roman,serif\" font-size=\"14.00\" text-anchor=\"middle\" x=\"62.5\" y=\"-37.8\">samples = 16.7%</text>\n",
       "<text font-family=\"Times New Roman,serif\" font-size=\"14.00\" text-anchor=\"middle\" x=\"62.5\" y=\"-22.8\">value = [0.98, 0.02]</text>\n",
       "<text font-family=\"Times New Roman,serif\" font-size=\"14.00\" text-anchor=\"middle\" x=\"62.5\" y=\"-7.8\">class = No</text>\n",
       "</g>\n",
       "<!-- 4&#45;&gt;5 -->\n",
       "<g class=\"edge\" id=\"edge5\"><title>4-&gt;5</title>\n",
       "<path d=\"M156.646,-103.726C143.527,-94.1494 129.57,-83.9611 116.533,-74.4438\" fill=\"none\" stroke=\"black\"/>\n",
       "<polygon fill=\"black\" points=\"118.256,-71.3688 108.116,-68.2996 114.129,-77.0227 118.256,-71.3688\" stroke=\"black\"/>\n",
       "</g>\n",
       "<!-- 6 -->\n",
       "<g class=\"node\" id=\"node7\"><title>6</title>\n",
       "<polygon fill=\"#e58139\" fill-opacity=\"0.901961\" points=\"282,-68 143,-68 143,-0 282,-0 282,-68\" stroke=\"black\"/>\n",
       "<text font-family=\"Times New Roman,serif\" font-size=\"14.00\" text-anchor=\"middle\" x=\"212.5\" y=\"-52.8\">gini = 0.162</text>\n",
       "<text font-family=\"Times New Roman,serif\" font-size=\"14.00\" text-anchor=\"middle\" x=\"212.5\" y=\"-37.8\">samples = 7.9%</text>\n",
       "<text font-family=\"Times New Roman,serif\" font-size=\"14.00\" text-anchor=\"middle\" x=\"212.5\" y=\"-22.8\">value = [0.911, 0.089]</text>\n",
       "<text font-family=\"Times New Roman,serif\" font-size=\"14.00\" text-anchor=\"middle\" x=\"212.5\" y=\"-7.8\">class = No</text>\n",
       "</g>\n",
       "<!-- 4&#45;&gt;6 -->\n",
       "<g class=\"edge\" id=\"edge6\"><title>4-&gt;6</title>\n",
       "<path d=\"M212.5,-103.726C212.5,-95.5175 212.5,-86.8595 212.5,-78.56\" fill=\"none\" stroke=\"black\"/>\n",
       "<polygon fill=\"black\" points=\"216,-78.2996 212.5,-68.2996 209,-78.2996 216,-78.2996\" stroke=\"black\"/>\n",
       "</g>\n",
       "<!-- 8 -->\n",
       "<g class=\"node\" id=\"node9\"><title>8</title>\n",
       "<polygon fill=\"#e58139\" fill-opacity=\"0.898039\" points=\"439,-68 300,-68 300,-0 439,-0 439,-68\" stroke=\"black\"/>\n",
       "<text font-family=\"Times New Roman,serif\" font-size=\"14.00\" text-anchor=\"middle\" x=\"369.5\" y=\"-52.8\">gini = 0.169</text>\n",
       "<text font-family=\"Times New Roman,serif\" font-size=\"14.00\" text-anchor=\"middle\" x=\"369.5\" y=\"-37.8\">samples = 1.9%</text>\n",
       "<text font-family=\"Times New Roman,serif\" font-size=\"14.00\" text-anchor=\"middle\" x=\"369.5\" y=\"-22.8\">value = [0.907, 0.093]</text>\n",
       "<text font-family=\"Times New Roman,serif\" font-size=\"14.00\" text-anchor=\"middle\" x=\"369.5\" y=\"-7.8\">class = No</text>\n",
       "</g>\n",
       "<!-- 7&#45;&gt;8 -->\n",
       "<g class=\"edge\" id=\"edge8\"><title>7-&gt;8</title>\n",
       "<path d=\"M427.243,-103.726C419.656,-94.6966 411.613,-85.1235 404.016,-76.0816\" fill=\"none\" stroke=\"black\"/>\n",
       "<polygon fill=\"black\" points=\"406.59,-73.7045 397.478,-68.2996 401.231,-78.2075 406.59,-73.7045\" stroke=\"black\"/>\n",
       "</g>\n",
       "<!-- 9 -->\n",
       "<g class=\"node\" id=\"node10\"><title>9</title>\n",
       "<polygon fill=\"#e58139\" fill-opacity=\"0.301961\" points=\"596,-68 457,-68 457,-0 596,-0 596,-68\" stroke=\"black\"/>\n",
       "<text font-family=\"Times New Roman,serif\" font-size=\"14.00\" text-anchor=\"middle\" x=\"526.5\" y=\"-52.8\">gini = 0.484</text>\n",
       "<text font-family=\"Times New Roman,serif\" font-size=\"14.00\" text-anchor=\"middle\" x=\"526.5\" y=\"-37.8\">samples = 1.1%</text>\n",
       "<text font-family=\"Times New Roman,serif\" font-size=\"14.00\" text-anchor=\"middle\" x=\"526.5\" y=\"-22.8\">value = [0.589, 0.411]</text>\n",
       "<text font-family=\"Times New Roman,serif\" font-size=\"14.00\" text-anchor=\"middle\" x=\"526.5\" y=\"-7.8\">class = No</text>\n",
       "</g>\n",
       "<!-- 7&#45;&gt;9 -->\n",
       "<g class=\"edge\" id=\"edge9\"><title>7-&gt;9</title>\n",
       "<path d=\"M485.704,-103.726C490.901,-94.9703 496.402,-85.7032 501.625,-76.9051\" fill=\"none\" stroke=\"black\"/>\n",
       "<polygon fill=\"black\" points=\"504.638,-78.6853 506.733,-68.2996 498.619,-75.1121 504.638,-78.6853\" stroke=\"black\"/>\n",
       "</g>\n",
       "<!-- 11 -->\n",
       "<g class=\"node\" id=\"node12\"><title>11</title>\n",
       "<polygon fill=\"#e58139\" fill-opacity=\"0.309804\" points=\"902,-187 763,-187 763,-104 902,-104 902,-187\" stroke=\"black\"/>\n",
       "<text font-family=\"Times New Roman,serif\" font-size=\"14.00\" text-anchor=\"middle\" x=\"832.5\" y=\"-171.8\">tenure &lt;= 13.0</text>\n",
       "<text font-family=\"Times New Roman,serif\" font-size=\"14.00\" text-anchor=\"middle\" x=\"832.5\" y=\"-156.8\">gini = 0.483</text>\n",
       "<text font-family=\"Times New Roman,serif\" font-size=\"14.00\" text-anchor=\"middle\" x=\"832.5\" y=\"-141.8\">samples = 3.5%</text>\n",
       "<text font-family=\"Times New Roman,serif\" font-size=\"14.00\" text-anchor=\"middle\" x=\"832.5\" y=\"-126.8\">value = [0.591, 0.409]</text>\n",
       "<text font-family=\"Times New Roman,serif\" font-size=\"14.00\" text-anchor=\"middle\" x=\"832.5\" y=\"-111.8\">class = No</text>\n",
       "</g>\n",
       "<!-- 10&#45;&gt;11 -->\n",
       "<g class=\"edge\" id=\"edge11\"><title>10-&gt;11</title>\n",
       "<path d=\"M889.316,-222.907C882.635,-213.923 875.491,-204.315 868.601,-195.05\" fill=\"none\" stroke=\"black\"/>\n",
       "<polygon fill=\"black\" points=\"871.407,-192.957 862.631,-187.021 865.789,-197.134 871.407,-192.957\" stroke=\"black\"/>\n",
       "</g>\n",
       "<!-- 14 -->\n",
       "<g class=\"node\" id=\"node15\"><title>14</title>\n",
       "<polygon fill=\"#e58139\" fill-opacity=\"0.862745\" points=\"1090.5,-187 920.5,-187 920.5,-104 1090.5,-104 1090.5,-187\" stroke=\"black\"/>\n",
       "<text font-family=\"Times New Roman,serif\" font-size=\"14.00\" text-anchor=\"middle\" x=\"1005.5\" y=\"-171.8\">MonthlyCharges &lt;= 49.375</text>\n",
       "<text font-family=\"Times New Roman,serif\" font-size=\"14.00\" text-anchor=\"middle\" x=\"1005.5\" y=\"-156.8\">gini = 0.214</text>\n",
       "<text font-family=\"Times New Roman,serif\" font-size=\"14.00\" text-anchor=\"middle\" x=\"1005.5\" y=\"-141.8\">samples = 4.9%</text>\n",
       "<text font-family=\"Times New Roman,serif\" font-size=\"14.00\" text-anchor=\"middle\" x=\"1005.5\" y=\"-126.8\">value = [0.878, 0.122]</text>\n",
       "<text font-family=\"Times New Roman,serif\" font-size=\"14.00\" text-anchor=\"middle\" x=\"1005.5\" y=\"-111.8\">class = No</text>\n",
       "</g>\n",
       "<!-- 10&#45;&gt;14 -->\n",
       "<g class=\"edge\" id=\"edge14\"><title>10-&gt;14</title>\n",
       "<path d=\"M949.337,-222.907C955.874,-214.014 962.861,-204.509 969.607,-195.331\" fill=\"none\" stroke=\"black\"/>\n",
       "<polygon fill=\"black\" points=\"972.613,-197.151 975.715,-187.021 966.973,-193.005 972.613,-197.151\" stroke=\"black\"/>\n",
       "</g>\n",
       "<!-- 12 -->\n",
       "<g class=\"node\" id=\"node13\"><title>12</title>\n",
       "<polygon fill=\"#399de5\" fill-opacity=\"0.400000\" points=\"753,-68 614,-68 614,-0 753,-0 753,-68\" stroke=\"black\"/>\n",
       "<text font-family=\"Times New Roman,serif\" font-size=\"14.00\" text-anchor=\"middle\" x=\"683.5\" y=\"-52.8\">gini = 0.469</text>\n",
       "<text font-family=\"Times New Roman,serif\" font-size=\"14.00\" text-anchor=\"middle\" x=\"683.5\" y=\"-37.8\">samples = 0.5%</text>\n",
       "<text font-family=\"Times New Roman,serif\" font-size=\"14.00\" text-anchor=\"middle\" x=\"683.5\" y=\"-22.8\">value = [0.375, 0.625]</text>\n",
       "<text font-family=\"Times New Roman,serif\" font-size=\"14.00\" text-anchor=\"middle\" x=\"683.5\" y=\"-7.8\">class = Yes</text>\n",
       "</g>\n",
       "<!-- 11&#45;&gt;12 -->\n",
       "<g class=\"edge\" id=\"edge12\"><title>11-&gt;12</title>\n",
       "<path d=\"M777.018,-103.726C763.986,-94.1494 750.123,-83.9611 737.172,-74.4438\" fill=\"none\" stroke=\"black\"/>\n",
       "<polygon fill=\"black\" points=\"738.942,-71.4012 728.812,-68.2996 734.797,-77.0418 738.942,-71.4012\" stroke=\"black\"/>\n",
       "</g>\n",
       "<!-- 13 -->\n",
       "<g class=\"node\" id=\"node14\"><title>13</title>\n",
       "<polygon fill=\"#e58139\" fill-opacity=\"0.435294\" points=\"910,-68 771,-68 771,-0 910,-0 910,-68\" stroke=\"black\"/>\n",
       "<text font-family=\"Times New Roman,serif\" font-size=\"14.00\" text-anchor=\"middle\" x=\"840.5\" y=\"-52.8\">gini = 0.461</text>\n",
       "<text font-family=\"Times New Roman,serif\" font-size=\"14.00\" text-anchor=\"middle\" x=\"840.5\" y=\"-37.8\">samples = 3.0%</text>\n",
       "<text font-family=\"Times New Roman,serif\" font-size=\"14.00\" text-anchor=\"middle\" x=\"840.5\" y=\"-22.8\">value = [0.639, 0.361]</text>\n",
       "<text font-family=\"Times New Roman,serif\" font-size=\"14.00\" text-anchor=\"middle\" x=\"840.5\" y=\"-7.8\">class = No</text>\n",
       "</g>\n",
       "<!-- 11&#45;&gt;13 -->\n",
       "<g class=\"edge\" id=\"edge13\"><title>11-&gt;13</title>\n",
       "<path d=\"M835.479,-103.726C836.085,-95.4263 836.725,-86.6671 837.338,-78.2834\" fill=\"none\" stroke=\"black\"/>\n",
       "<polygon fill=\"black\" points=\"840.829,-78.5281 838.067,-68.2996 833.848,-78.018 840.829,-78.5281\" stroke=\"black\"/>\n",
       "</g>\n",
       "<!-- 15 -->\n",
       "<g class=\"node\" id=\"node16\"><title>15</title>\n",
       "<polygon fill=\"#399de5\" fill-opacity=\"0.082353\" points=\"1067,-68 928,-68 928,-0 1067,-0 1067,-68\" stroke=\"black\"/>\n",
       "<text font-family=\"Times New Roman,serif\" font-size=\"14.00\" text-anchor=\"middle\" x=\"997.5\" y=\"-52.8\">gini = 0.499</text>\n",
       "<text font-family=\"Times New Roman,serif\" font-size=\"14.00\" text-anchor=\"middle\" x=\"997.5\" y=\"-37.8\">samples = 0.3%</text>\n",
       "<text font-family=\"Times New Roman,serif\" font-size=\"14.00\" text-anchor=\"middle\" x=\"997.5\" y=\"-22.8\">value = [0.478, 0.522]</text>\n",
       "<text font-family=\"Times New Roman,serif\" font-size=\"14.00\" text-anchor=\"middle\" x=\"997.5\" y=\"-7.8\">class = Yes</text>\n",
       "</g>\n",
       "<!-- 14&#45;&gt;15 -->\n",
       "<g class=\"edge\" id=\"edge15\"><title>14-&gt;15</title>\n",
       "<path d=\"M1002.52,-103.726C1001.91,-95.4263 1001.27,-86.6671 1000.66,-78.2834\" fill=\"none\" stroke=\"black\"/>\n",
       "<polygon fill=\"black\" points=\"1004.15,-78.018 999.933,-68.2996 997.171,-78.5281 1004.15,-78.018\" stroke=\"black\"/>\n",
       "</g>\n",
       "<!-- 16 -->\n",
       "<g class=\"node\" id=\"node17\"><title>16</title>\n",
       "<polygon fill=\"#e58139\" fill-opacity=\"0.901961\" points=\"1224,-68 1085,-68 1085,-0 1224,-0 1224,-68\" stroke=\"black\"/>\n",
       "<text font-family=\"Times New Roman,serif\" font-size=\"14.00\" text-anchor=\"middle\" x=\"1154.5\" y=\"-52.8\">gini = 0.165</text>\n",
       "<text font-family=\"Times New Roman,serif\" font-size=\"14.00\" text-anchor=\"middle\" x=\"1154.5\" y=\"-37.8\">samples = 4.6%</text>\n",
       "<text font-family=\"Times New Roman,serif\" font-size=\"14.00\" text-anchor=\"middle\" x=\"1154.5\" y=\"-22.8\">value = [0.909, 0.091]</text>\n",
       "<text font-family=\"Times New Roman,serif\" font-size=\"14.00\" text-anchor=\"middle\" x=\"1154.5\" y=\"-7.8\">class = No</text>\n",
       "</g>\n",
       "<!-- 14&#45;&gt;16 -->\n",
       "<g class=\"edge\" id=\"edge16\"><title>14-&gt;16</title>\n",
       "<path d=\"M1060.98,-103.726C1074.01,-94.1494 1087.88,-83.9611 1100.83,-74.4438\" fill=\"none\" stroke=\"black\"/>\n",
       "<polygon fill=\"black\" points=\"1103.2,-77.0418 1109.19,-68.2996 1099.06,-71.4012 1103.2,-77.0418\" stroke=\"black\"/>\n",
       "</g>\n",
       "<!-- 18 -->\n",
       "<g class=\"node\" id=\"node19\"><title>18</title>\n",
       "<polygon fill=\"#e58139\" fill-opacity=\"0.125490\" points=\"1746.5,-306 1582.5,-306 1582.5,-223 1746.5,-223 1746.5,-306\" stroke=\"black\"/>\n",
       "<text font-family=\"Times New Roman,serif\" font-size=\"14.00\" text-anchor=\"middle\" x=\"1664.5\" y=\"-290.8\">Contract_One year &lt;= 0.5</text>\n",
       "<text font-family=\"Times New Roman,serif\" font-size=\"14.00\" text-anchor=\"middle\" x=\"1664.5\" y=\"-275.8\">gini = 0.498</text>\n",
       "<text font-family=\"Times New Roman,serif\" font-size=\"14.00\" text-anchor=\"middle\" x=\"1664.5\" y=\"-260.8\">samples = 5.8%</text>\n",
       "<text font-family=\"Times New Roman,serif\" font-size=\"14.00\" text-anchor=\"middle\" x=\"1664.5\" y=\"-245.8\">value = [0.533, 0.467]</text>\n",
       "<text font-family=\"Times New Roman,serif\" font-size=\"14.00\" text-anchor=\"middle\" x=\"1664.5\" y=\"-230.8\">class = No</text>\n",
       "</g>\n",
       "<!-- 17&#45;&gt;18 -->\n",
       "<g class=\"edge\" id=\"edge18\"><title>17-&gt;18</title>\n",
       "<path d=\"M1736.99,-341.907C1728.29,-332.742 1718.98,-322.927 1710.03,-313.489\" fill=\"none\" stroke=\"black\"/>\n",
       "<polygon fill=\"black\" points=\"1712.36,-310.867 1702.94,-306.021 1707.29,-315.684 1712.36,-310.867\" stroke=\"black\"/>\n",
       "</g>\n",
       "<!-- 25 -->\n",
       "<g class=\"node\" id=\"node26\"><title>25</title>\n",
       "<polygon fill=\"#e58139\" fill-opacity=\"0.937255\" points=\"1969.5,-306 1805.5,-306 1805.5,-223 1969.5,-223 1969.5,-306\" stroke=\"black\"/>\n",
       "<text font-family=\"Times New Roman,serif\" font-size=\"14.00\" text-anchor=\"middle\" x=\"1887.5\" y=\"-290.8\">OnlineSecurity_No &lt;= 0.5</text>\n",
       "<text font-family=\"Times New Roman,serif\" font-size=\"14.00\" text-anchor=\"middle\" x=\"1887.5\" y=\"-275.8\">gini = 0.112</text>\n",
       "<text font-family=\"Times New Roman,serif\" font-size=\"14.00\" text-anchor=\"middle\" x=\"1887.5\" y=\"-260.8\">samples = 2.3%</text>\n",
       "<text font-family=\"Times New Roman,serif\" font-size=\"14.00\" text-anchor=\"middle\" x=\"1887.5\" y=\"-245.8\">value = [0.94, 0.06]</text>\n",
       "<text font-family=\"Times New Roman,serif\" font-size=\"14.00\" text-anchor=\"middle\" x=\"1887.5\" y=\"-230.8\">class = No</text>\n",
       "</g>\n",
       "<!-- 17&#45;&gt;25 -->\n",
       "<g class=\"edge\" id=\"edge25\"><title>17-&gt;25</title>\n",
       "<path d=\"M1814.36,-341.907C1823.13,-332.742 1832.53,-322.927 1841.56,-313.489\" fill=\"none\" stroke=\"black\"/>\n",
       "<polygon fill=\"black\" points=\"1844.32,-315.665 1848.71,-306.021 1839.27,-310.824 1844.32,-315.665\" stroke=\"black\"/>\n",
       "</g>\n",
       "<!-- 19 -->\n",
       "<g class=\"node\" id=\"node20\"><title>19</title>\n",
       "<polygon fill=\"#e58139\" fill-opacity=\"0.615686\" points=\"1497.5,-187 1327.5,-187 1327.5,-104 1497.5,-104 1497.5,-187\" stroke=\"black\"/>\n",
       "<text font-family=\"Times New Roman,serif\" font-size=\"14.00\" text-anchor=\"middle\" x=\"1412.5\" y=\"-171.8\">MonthlyCharges &lt;= 108.25</text>\n",
       "<text font-family=\"Times New Roman,serif\" font-size=\"14.00\" text-anchor=\"middle\" x=\"1412.5\" y=\"-156.8\">gini = 0.402</text>\n",
       "<text font-family=\"Times New Roman,serif\" font-size=\"14.00\" text-anchor=\"middle\" x=\"1412.5\" y=\"-141.8\">samples = 2.2%</text>\n",
       "<text font-family=\"Times New Roman,serif\" font-size=\"14.00\" text-anchor=\"middle\" x=\"1412.5\" y=\"-126.8\">value = [0.721, 0.279]</text>\n",
       "<text font-family=\"Times New Roman,serif\" font-size=\"14.00\" text-anchor=\"middle\" x=\"1412.5\" y=\"-111.8\">class = No</text>\n",
       "</g>\n",
       "<!-- 18&#45;&gt;19 -->\n",
       "<g class=\"edge\" id=\"edge19\"><title>18-&gt;19</title>\n",
       "<path d=\"M1582.33,-225.352C1558.16,-214.127 1531.52,-201.76 1506.65,-190.215\" fill=\"none\" stroke=\"black\"/>\n",
       "<polygon fill=\"black\" points=\"1508.13,-187.039 1497.58,-186.002 1505.18,-193.388 1508.13,-187.039\" stroke=\"black\"/>\n",
       "</g>\n",
       "<!-- 22 -->\n",
       "<g class=\"node\" id=\"node23\"><title>22</title>\n",
       "<polygon fill=\"#399de5\" fill-opacity=\"0.203922\" points=\"1813.5,-187 1515.5,-187 1515.5,-104 1813.5,-104 1813.5,-187\" stroke=\"black\"/>\n",
       "<text font-family=\"Times New Roman,serif\" font-size=\"14.00\" text-anchor=\"middle\" x=\"1664.5\" y=\"-171.8\">PaymentMethod_Bank transfer (automatic) &lt;= 0.5</text>\n",
       "<text font-family=\"Times New Roman,serif\" font-size=\"14.00\" text-anchor=\"middle\" x=\"1664.5\" y=\"-156.8\">gini = 0.494</text>\n",
       "<text font-family=\"Times New Roman,serif\" font-size=\"14.00\" text-anchor=\"middle\" x=\"1664.5\" y=\"-141.8\">samples = 3.6%</text>\n",
       "<text font-family=\"Times New Roman,serif\" font-size=\"14.00\" text-anchor=\"middle\" x=\"1664.5\" y=\"-126.8\">value = [0.444, 0.556]</text>\n",
       "<text font-family=\"Times New Roman,serif\" font-size=\"14.00\" text-anchor=\"middle\" x=\"1664.5\" y=\"-111.8\">class = Yes</text>\n",
       "</g>\n",
       "<!-- 18&#45;&gt;22 -->\n",
       "<g class=\"edge\" id=\"edge22\"><title>18-&gt;22</title>\n",
       "<path d=\"M1664.5,-222.907C1664.5,-214.649 1664.5,-205.864 1664.5,-197.302\" fill=\"none\" stroke=\"black\"/>\n",
       "<polygon fill=\"black\" points=\"1668,-197.021 1664.5,-187.021 1661,-197.021 1668,-197.021\" stroke=\"black\"/>\n",
       "</g>\n",
       "<!-- 20 -->\n",
       "<g class=\"node\" id=\"node21\"><title>20</title>\n",
       "<polygon fill=\"#e58139\" fill-opacity=\"0.894118\" points=\"1381,-68 1242,-68 1242,-0 1381,-0 1381,-68\" stroke=\"black\"/>\n",
       "<text font-family=\"Times New Roman,serif\" font-size=\"14.00\" text-anchor=\"middle\" x=\"1311.5\" y=\"-52.8\">gini = 0.175</text>\n",
       "<text font-family=\"Times New Roman,serif\" font-size=\"14.00\" text-anchor=\"middle\" x=\"1311.5\" y=\"-37.8\">samples = 1.0%</text>\n",
       "<text font-family=\"Times New Roman,serif\" font-size=\"14.00\" text-anchor=\"middle\" x=\"1311.5\" y=\"-22.8\">value = [0.903, 0.097]</text>\n",
       "<text font-family=\"Times New Roman,serif\" font-size=\"14.00\" text-anchor=\"middle\" x=\"1311.5\" y=\"-7.8\">class = No</text>\n",
       "</g>\n",
       "<!-- 19&#45;&gt;20 -->\n",
       "<g class=\"edge\" id=\"edge20\"><title>19-&gt;20</title>\n",
       "<path d=\"M1374.89,-103.726C1366.48,-94.6054 1357.55,-84.93 1349.14,-75.8078\" fill=\"none\" stroke=\"black\"/>\n",
       "<polygon fill=\"black\" points=\"1351.57,-73.2772 1342.21,-68.2996 1346.42,-78.0232 1351.57,-73.2772\" stroke=\"black\"/>\n",
       "</g>\n",
       "<!-- 21 -->\n",
       "<g class=\"node\" id=\"node22\"><title>21</title>\n",
       "<polygon fill=\"#e58139\" fill-opacity=\"0.356863\" points=\"1538,-68 1399,-68 1399,-0 1538,-0 1538,-68\" stroke=\"black\"/>\n",
       "<text font-family=\"Times New Roman,serif\" font-size=\"14.00\" text-anchor=\"middle\" x=\"1468.5\" y=\"-52.8\">gini = 0.477</text>\n",
       "<text font-family=\"Times New Roman,serif\" font-size=\"14.00\" text-anchor=\"middle\" x=\"1468.5\" y=\"-37.8\">samples = 1.2%</text>\n",
       "<text font-family=\"Times New Roman,serif\" font-size=\"14.00\" text-anchor=\"middle\" x=\"1468.5\" y=\"-22.8\">value = [0.608, 0.392]</text>\n",
       "<text font-family=\"Times New Roman,serif\" font-size=\"14.00\" text-anchor=\"middle\" x=\"1468.5\" y=\"-7.8\">class = No</text>\n",
       "</g>\n",
       "<!-- 19&#45;&gt;21 -->\n",
       "<g class=\"edge\" id=\"edge21\"><title>19-&gt;21</title>\n",
       "<path d=\"M1433.35,-103.726C1437.74,-95.1527 1442.37,-86.0891 1446.79,-77.4555\" fill=\"none\" stroke=\"black\"/>\n",
       "<polygon fill=\"black\" points=\"1450.03,-78.7965 1451.47,-68.2996 1443.8,-75.6092 1450.03,-78.7965\" stroke=\"black\"/>\n",
       "</g>\n",
       "<!-- 23 -->\n",
       "<g class=\"node\" id=\"node24\"><title>23</title>\n",
       "<polygon fill=\"#399de5\" fill-opacity=\"0.396078\" points=\"1695,-68 1556,-68 1556,-0 1695,-0 1695,-68\" stroke=\"black\"/>\n",
       "<text font-family=\"Times New Roman,serif\" font-size=\"14.00\" text-anchor=\"middle\" x=\"1625.5\" y=\"-52.8\">gini = 0.47</text>\n",
       "<text font-family=\"Times New Roman,serif\" font-size=\"14.00\" text-anchor=\"middle\" x=\"1625.5\" y=\"-37.8\">samples = 2.8%</text>\n",
       "<text font-family=\"Times New Roman,serif\" font-size=\"14.00\" text-anchor=\"middle\" x=\"1625.5\" y=\"-22.8\">value = [0.377, 0.623]</text>\n",
       "<text font-family=\"Times New Roman,serif\" font-size=\"14.00\" text-anchor=\"middle\" x=\"1625.5\" y=\"-7.8\">class = Yes</text>\n",
       "</g>\n",
       "<!-- 22&#45;&gt;23 -->\n",
       "<g class=\"edge\" id=\"edge23\"><title>22-&gt;23</title>\n",
       "<path d=\"M1649.98,-103.726C1646.96,-95.2439 1643.76,-86.2819 1640.72,-77.7312\" fill=\"none\" stroke=\"black\"/>\n",
       "<polygon fill=\"black\" points=\"1644.01,-76.5456 1637.36,-68.2996 1637.42,-78.8943 1644.01,-76.5456\" stroke=\"black\"/>\n",
       "</g>\n",
       "<!-- 24 -->\n",
       "<g class=\"node\" id=\"node25\"><title>24</title>\n",
       "<polygon fill=\"#e58139\" fill-opacity=\"0.784314\" points=\"1852,-68 1713,-68 1713,-0 1852,-0 1852,-68\" stroke=\"black\"/>\n",
       "<text font-family=\"Times New Roman,serif\" font-size=\"14.00\" text-anchor=\"middle\" x=\"1782.5\" y=\"-52.8\">gini = 0.292</text>\n",
       "<text font-family=\"Times New Roman,serif\" font-size=\"14.00\" text-anchor=\"middle\" x=\"1782.5\" y=\"-37.8\">samples = 0.8%</text>\n",
       "<text font-family=\"Times New Roman,serif\" font-size=\"14.00\" text-anchor=\"middle\" x=\"1782.5\" y=\"-22.8\">value = [0.823, 0.177]</text>\n",
       "<text font-family=\"Times New Roman,serif\" font-size=\"14.00\" text-anchor=\"middle\" x=\"1782.5\" y=\"-7.8\">class = No</text>\n",
       "</g>\n",
       "<!-- 22&#45;&gt;24 -->\n",
       "<g class=\"edge\" id=\"edge24\"><title>22-&gt;24</title>\n",
       "<path d=\"M1708.44,-103.726C1718.46,-94.423 1729.11,-84.5428 1739.11,-75.2612\" fill=\"none\" stroke=\"black\"/>\n",
       "<polygon fill=\"black\" points=\"1741.67,-77.6673 1746.62,-68.2996 1736.9,-72.5362 1741.67,-77.6673\" stroke=\"black\"/>\n",
       "</g>\n",
       "<!-- 26 -->\n",
       "<g class=\"node\" id=\"node27\"><title>26</title>\n",
       "<polygon fill=\"#e58139\" points=\"1943.5,-179.5 1831.5,-179.5 1831.5,-111.5 1943.5,-111.5 1943.5,-179.5\" stroke=\"black\"/>\n",
       "<text font-family=\"Times New Roman,serif\" font-size=\"14.00\" text-anchor=\"middle\" x=\"1887.5\" y=\"-164.3\">gini = 0.0</text>\n",
       "<text font-family=\"Times New Roman,serif\" font-size=\"14.00\" text-anchor=\"middle\" x=\"1887.5\" y=\"-149.3\">samples = 1.7%</text>\n",
       "<text font-family=\"Times New Roman,serif\" font-size=\"14.00\" text-anchor=\"middle\" x=\"1887.5\" y=\"-134.3\">value = [1.0, 0.0]</text>\n",
       "<text font-family=\"Times New Roman,serif\" font-size=\"14.00\" text-anchor=\"middle\" x=\"1887.5\" y=\"-119.3\">class = No</text>\n",
       "</g>\n",
       "<!-- 25&#45;&gt;26 -->\n",
       "<g class=\"edge\" id=\"edge26\"><title>25-&gt;26</title>\n",
       "<path d=\"M1887.5,-222.907C1887.5,-212.204 1887.5,-200.615 1887.5,-189.776\" fill=\"none\" stroke=\"black\"/>\n",
       "<polygon fill=\"black\" points=\"1891,-189.667 1887.5,-179.667 1884,-189.667 1891,-189.667\" stroke=\"black\"/>\n",
       "</g>\n",
       "<!-- 27 -->\n",
       "<g class=\"node\" id=\"node28\"><title>27</title>\n",
       "<polygon fill=\"#e58139\" fill-opacity=\"0.772549\" points=\"2125.5,-187 1961.5,-187 1961.5,-104 2125.5,-104 2125.5,-187\" stroke=\"black\"/>\n",
       "<text font-family=\"Times New Roman,serif\" font-size=\"14.00\" text-anchor=\"middle\" x=\"2043.5\" y=\"-171.8\">Contract_One year &lt;= 0.5</text>\n",
       "<text font-family=\"Times New Roman,serif\" font-size=\"14.00\" text-anchor=\"middle\" x=\"2043.5\" y=\"-156.8\">gini = 0.302</text>\n",
       "<text font-family=\"Times New Roman,serif\" font-size=\"14.00\" text-anchor=\"middle\" x=\"2043.5\" y=\"-141.8\">samples = 0.6%</text>\n",
       "<text font-family=\"Times New Roman,serif\" font-size=\"14.00\" text-anchor=\"middle\" x=\"2043.5\" y=\"-126.8\">value = [0.815, 0.185]</text>\n",
       "<text font-family=\"Times New Roman,serif\" font-size=\"14.00\" text-anchor=\"middle\" x=\"2043.5\" y=\"-111.8\">class = No</text>\n",
       "</g>\n",
       "<!-- 25&#45;&gt;27 -->\n",
       "<g class=\"edge\" id=\"edge27\"><title>25-&gt;27</title>\n",
       "<path d=\"M1941.62,-222.907C1954.45,-213.288 1968.23,-202.953 1981.38,-193.09\" fill=\"none\" stroke=\"black\"/>\n",
       "<polygon fill=\"black\" points=\"1983.57,-195.821 1989.47,-187.021 1979.37,-190.221 1983.57,-195.821\" stroke=\"black\"/>\n",
       "</g>\n",
       "<!-- 28 -->\n",
       "<g class=\"node\" id=\"node29\"><title>28</title>\n",
       "<polygon fill=\"#e58139\" fill-opacity=\"0.627451\" points=\"2009,-68 1870,-68 1870,-0 2009,-0 2009,-68\" stroke=\"black\"/>\n",
       "<text font-family=\"Times New Roman,serif\" font-size=\"14.00\" text-anchor=\"middle\" x=\"1939.5\" y=\"-52.8\">gini = 0.395</text>\n",
       "<text font-family=\"Times New Roman,serif\" font-size=\"14.00\" text-anchor=\"middle\" x=\"1939.5\" y=\"-37.8\">samples = 0.4%</text>\n",
       "<text font-family=\"Times New Roman,serif\" font-size=\"14.00\" text-anchor=\"middle\" x=\"1939.5\" y=\"-22.8\">value = [0.729, 0.271]</text>\n",
       "<text font-family=\"Times New Roman,serif\" font-size=\"14.00\" text-anchor=\"middle\" x=\"1939.5\" y=\"-7.8\">class = No</text>\n",
       "</g>\n",
       "<!-- 27&#45;&gt;28 -->\n",
       "<g class=\"edge\" id=\"edge28\"><title>27-&gt;28</title>\n",
       "<path d=\"M2004.77,-103.726C1996.11,-94.6054 1986.92,-84.93 1978.26,-75.8078\" fill=\"none\" stroke=\"black\"/>\n",
       "<polygon fill=\"black\" points=\"1980.55,-73.1401 1971.13,-68.2996 1975.48,-77.9608 1980.55,-73.1401\" stroke=\"black\"/>\n",
       "</g>\n",
       "<!-- 29 -->\n",
       "<g class=\"node\" id=\"node30\"><title>29</title>\n",
       "<polygon fill=\"#e58139\" points=\"2139.5,-68 2027.5,-68 2027.5,-0 2139.5,-0 2139.5,-68\" stroke=\"black\"/>\n",
       "<text font-family=\"Times New Roman,serif\" font-size=\"14.00\" text-anchor=\"middle\" x=\"2083.5\" y=\"-52.8\">gini = 0.0</text>\n",
       "<text font-family=\"Times New Roman,serif\" font-size=\"14.00\" text-anchor=\"middle\" x=\"2083.5\" y=\"-37.8\">samples = 0.2%</text>\n",
       "<text font-family=\"Times New Roman,serif\" font-size=\"14.00\" text-anchor=\"middle\" x=\"2083.5\" y=\"-22.8\">value = [1.0, 0.0]</text>\n",
       "<text font-family=\"Times New Roman,serif\" font-size=\"14.00\" text-anchor=\"middle\" x=\"2083.5\" y=\"-7.8\">class = No</text>\n",
       "</g>\n",
       "<!-- 27&#45;&gt;29 -->\n",
       "<g class=\"edge\" id=\"edge29\"><title>27-&gt;29</title>\n",
       "<path d=\"M2058.39,-103.726C2061.49,-95.2439 2064.77,-86.2819 2067.89,-77.7312\" fill=\"none\" stroke=\"black\"/>\n",
       "<polygon fill=\"black\" points=\"2071.19,-78.8935 2071.34,-68.2996 2064.62,-76.4916 2071.19,-78.8935\" stroke=\"black\"/>\n",
       "</g>\n",
       "<!-- 31 -->\n",
       "<g class=\"node\" id=\"node32\"><title>31</title>\n",
       "<polygon fill=\"#e58139\" fill-opacity=\"0.086275\" points=\"2890,-425 2751,-425 2751,-342 2890,-342 2890,-425\" stroke=\"black\"/>\n",
       "<text font-family=\"Times New Roman,serif\" font-size=\"14.00\" text-anchor=\"middle\" x=\"2820.5\" y=\"-409.8\">tenure &lt;= 16.5</text>\n",
       "<text font-family=\"Times New Roman,serif\" font-size=\"14.00\" text-anchor=\"middle\" x=\"2820.5\" y=\"-394.8\">gini = 0.499</text>\n",
       "<text font-family=\"Times New Roman,serif\" font-size=\"14.00\" text-anchor=\"middle\" x=\"2820.5\" y=\"-379.8\">samples = 17.6%</text>\n",
       "<text font-family=\"Times New Roman,serif\" font-size=\"14.00\" text-anchor=\"middle\" x=\"2820.5\" y=\"-364.8\">value = [0.523, 0.477]</text>\n",
       "<text font-family=\"Times New Roman,serif\" font-size=\"14.00\" text-anchor=\"middle\" x=\"2820.5\" y=\"-349.8\">class = No</text>\n",
       "</g>\n",
       "<!-- 30&#45;&gt;31 -->\n",
       "<g class=\"edge\" id=\"edge31\"><title>30-&gt;31</title>\n",
       "<path d=\"M2820.5,-460.907C2820.5,-452.649 2820.5,-443.864 2820.5,-435.302\" fill=\"none\" stroke=\"black\"/>\n",
       "<polygon fill=\"black\" points=\"2824,-435.021 2820.5,-425.021 2817,-435.021 2824,-435.021\" stroke=\"black\"/>\n",
       "</g>\n",
       "<!-- 46 -->\n",
       "<g class=\"node\" id=\"node47\"><title>46</title>\n",
       "<polygon fill=\"#399de5\" fill-opacity=\"0.635294\" points=\"3774,-425 3635,-425 3635,-342 3774,-342 3774,-425\" stroke=\"black\"/>\n",
       "<text font-family=\"Times New Roman,serif\" font-size=\"14.00\" text-anchor=\"middle\" x=\"3704.5\" y=\"-409.8\">tenure &lt;= 10.5</text>\n",
       "<text font-family=\"Times New Roman,serif\" font-size=\"14.00\" text-anchor=\"middle\" x=\"3704.5\" y=\"-394.8\">gini = 0.391</text>\n",
       "<text font-family=\"Times New Roman,serif\" font-size=\"14.00\" text-anchor=\"middle\" x=\"3704.5\" y=\"-379.8\">samples = 38.4%</text>\n",
       "<text font-family=\"Times New Roman,serif\" font-size=\"14.00\" text-anchor=\"middle\" x=\"3704.5\" y=\"-364.8\">value = [0.267, 0.733]</text>\n",
       "<text font-family=\"Times New Roman,serif\" font-size=\"14.00\" text-anchor=\"middle\" x=\"3704.5\" y=\"-349.8\">class = Yes</text>\n",
       "</g>\n",
       "<!-- 30&#45;&gt;46 -->\n",
       "<g class=\"edge\" id=\"edge46\"><title>30-&gt;46</title>\n",
       "<path d=\"M2899.34,-491.066C3066.88,-468.891 3456.75,-417.29 3624.93,-395.031\" fill=\"none\" stroke=\"black\"/>\n",
       "<polygon fill=\"black\" points=\"3625.5,-398.486 3634.96,-393.704 3624.59,-391.546 3625.5,-398.486\" stroke=\"black\"/>\n",
       "</g>\n",
       "<!-- 32 -->\n",
       "<g class=\"node\" id=\"node33\"><title>32</title>\n",
       "<polygon fill=\"#399de5\" fill-opacity=\"0.219608\" points=\"2733.5,-306 2523.5,-306 2523.5,-223 2733.5,-223 2733.5,-306\" stroke=\"black\"/>\n",
       "<text font-family=\"Times New Roman,serif\" font-size=\"14.00\" text-anchor=\"middle\" x=\"2628.5\" y=\"-290.8\">InternetService_Fiber optic &lt;= 0.5</text>\n",
       "<text font-family=\"Times New Roman,serif\" font-size=\"14.00\" text-anchor=\"middle\" x=\"2628.5\" y=\"-275.8\">gini = 0.492</text>\n",
       "<text font-family=\"Times New Roman,serif\" font-size=\"14.00\" text-anchor=\"middle\" x=\"2628.5\" y=\"-260.8\">samples = 10.3%</text>\n",
       "<text font-family=\"Times New Roman,serif\" font-size=\"14.00\" text-anchor=\"middle\" x=\"2628.5\" y=\"-245.8\">value = [0.438, 0.562]</text>\n",
       "<text font-family=\"Times New Roman,serif\" font-size=\"14.00\" text-anchor=\"middle\" x=\"2628.5\" y=\"-230.8\">class = Yes</text>\n",
       "</g>\n",
       "<!-- 31&#45;&gt;32 -->\n",
       "<g class=\"edge\" id=\"edge32\"><title>31-&gt;32</title>\n",
       "<path d=\"M2753.89,-341.907C2737.65,-332.016 2720.18,-321.368 2703.58,-311.254\" fill=\"none\" stroke=\"black\"/>\n",
       "<polygon fill=\"black\" points=\"2705.36,-308.236 2695,-306.021 2701.71,-314.213 2705.36,-308.236\" stroke=\"black\"/>\n",
       "</g>\n",
       "<!-- 39 -->\n",
       "<g class=\"node\" id=\"node40\"><title>39</title>\n",
       "<polygon fill=\"#e58139\" fill-opacity=\"0.517647\" points=\"3039.5,-306 2829.5,-306 2829.5,-223 3039.5,-223 3039.5,-306\" stroke=\"black\"/>\n",
       "<text font-family=\"Times New Roman,serif\" font-size=\"14.00\" text-anchor=\"middle\" x=\"2934.5\" y=\"-290.8\">InternetService_Fiber optic &lt;= 0.5</text>\n",
       "<text font-family=\"Times New Roman,serif\" font-size=\"14.00\" text-anchor=\"middle\" x=\"2934.5\" y=\"-275.8\">gini = 0.439</text>\n",
       "<text font-family=\"Times New Roman,serif\" font-size=\"14.00\" text-anchor=\"middle\" x=\"2934.5\" y=\"-260.8\">samples = 7.3%</text>\n",
       "<text font-family=\"Times New Roman,serif\" font-size=\"14.00\" text-anchor=\"middle\" x=\"2934.5\" y=\"-245.8\">value = [0.674, 0.326]</text>\n",
       "<text font-family=\"Times New Roman,serif\" font-size=\"14.00\" text-anchor=\"middle\" x=\"2934.5\" y=\"-230.8\">class = No</text>\n",
       "</g>\n",
       "<!-- 31&#45;&gt;39 -->\n",
       "<g class=\"edge\" id=\"edge39\"><title>31-&gt;39</title>\n",
       "<path d=\"M2860.05,-341.907C2869.07,-332.651 2878.74,-322.732 2888.01,-313.209\" fill=\"none\" stroke=\"black\"/>\n",
       "<polygon fill=\"black\" points=\"2890.55,-315.626 2895.02,-306.021 2885.53,-310.741 2890.55,-315.626\" stroke=\"black\"/>\n",
       "</g>\n",
       "<!-- 33 -->\n",
       "<g class=\"node\" id=\"node34\"><title>33</title>\n",
       "<polygon fill=\"#399de5\" fill-opacity=\"0.109804\" points=\"2454,-187 2315,-187 2315,-104 2454,-104 2454,-187\" stroke=\"black\"/>\n",
       "<text font-family=\"Times New Roman,serif\" font-size=\"14.00\" text-anchor=\"middle\" x=\"2384.5\" y=\"-171.8\">tenure &lt;= 1.5</text>\n",
       "<text font-family=\"Times New Roman,serif\" font-size=\"14.00\" text-anchor=\"middle\" x=\"2384.5\" y=\"-156.8\">gini = 0.498</text>\n",
       "<text font-family=\"Times New Roman,serif\" font-size=\"14.00\" text-anchor=\"middle\" x=\"2384.5\" y=\"-141.8\">samples = 9.0%</text>\n",
       "<text font-family=\"Times New Roman,serif\" font-size=\"14.00\" text-anchor=\"middle\" x=\"2384.5\" y=\"-126.8\">value = [0.471, 0.529]</text>\n",
       "<text font-family=\"Times New Roman,serif\" font-size=\"14.00\" text-anchor=\"middle\" x=\"2384.5\" y=\"-111.8\">class = Yes</text>\n",
       "</g>\n",
       "<!-- 32&#45;&gt;33 -->\n",
       "<g class=\"edge\" id=\"edge33\"><title>32-&gt;33</title>\n",
       "<path d=\"M2543.85,-222.907C2517.73,-210.387 2489.1,-196.655 2463.39,-184.329\" fill=\"none\" stroke=\"black\"/>\n",
       "<polygon fill=\"black\" points=\"2464.59,-181.023 2454.06,-179.856 2461.57,-187.335 2464.59,-181.023\" stroke=\"black\"/>\n",
       "</g>\n",
       "<!-- 36 -->\n",
       "<g class=\"node\" id=\"node37\"><title>36</title>\n",
       "<polygon fill=\"#399de5\" fill-opacity=\"0.682353\" points=\"2713.5,-187 2543.5,-187 2543.5,-104 2713.5,-104 2713.5,-187\" stroke=\"black\"/>\n",
       "<text font-family=\"Times New Roman,serif\" font-size=\"14.00\" text-anchor=\"middle\" x=\"2628.5\" y=\"-171.8\">MonthlyCharges &lt;= 100.35</text>\n",
       "<text font-family=\"Times New Roman,serif\" font-size=\"14.00\" text-anchor=\"middle\" x=\"2628.5\" y=\"-156.8\">gini = 0.365</text>\n",
       "<text font-family=\"Times New Roman,serif\" font-size=\"14.00\" text-anchor=\"middle\" x=\"2628.5\" y=\"-141.8\">samples = 1.3%</text>\n",
       "<text font-family=\"Times New Roman,serif\" font-size=\"14.00\" text-anchor=\"middle\" x=\"2628.5\" y=\"-126.8\">value = [0.241, 0.759]</text>\n",
       "<text font-family=\"Times New Roman,serif\" font-size=\"14.00\" text-anchor=\"middle\" x=\"2628.5\" y=\"-111.8\">class = Yes</text>\n",
       "</g>\n",
       "<!-- 32&#45;&gt;36 -->\n",
       "<g class=\"edge\" id=\"edge36\"><title>32-&gt;36</title>\n",
       "<path d=\"M2628.5,-222.907C2628.5,-214.649 2628.5,-205.864 2628.5,-197.302\" fill=\"none\" stroke=\"black\"/>\n",
       "<polygon fill=\"black\" points=\"2632,-197.021 2628.5,-187.021 2625,-197.021 2632,-197.021\" stroke=\"black\"/>\n",
       "</g>\n",
       "<!-- 34 -->\n",
       "<g class=\"node\" id=\"node35\"><title>34</title>\n",
       "<polygon fill=\"#399de5\" fill-opacity=\"0.541176\" points=\"2297,-68 2158,-68 2158,-0 2297,-0 2297,-68\" stroke=\"black\"/>\n",
       "<text font-family=\"Times New Roman,serif\" font-size=\"14.00\" text-anchor=\"middle\" x=\"2227.5\" y=\"-52.8\">gini = 0.431</text>\n",
       "<text font-family=\"Times New Roman,serif\" font-size=\"14.00\" text-anchor=\"middle\" x=\"2227.5\" y=\"-37.8\">samples = 2.5%</text>\n",
       "<text font-family=\"Times New Roman,serif\" font-size=\"14.00\" text-anchor=\"middle\" x=\"2227.5\" y=\"-22.8\">value = [0.314, 0.686]</text>\n",
       "<text font-family=\"Times New Roman,serif\" font-size=\"14.00\" text-anchor=\"middle\" x=\"2227.5\" y=\"-7.8\">class = Yes</text>\n",
       "</g>\n",
       "<!-- 33&#45;&gt;34 -->\n",
       "<g class=\"edge\" id=\"edge34\"><title>33-&gt;34</title>\n",
       "<path d=\"M2326.04,-103.726C2312.18,-94.0582 2297.42,-83.767 2283.66,-74.172\" fill=\"none\" stroke=\"black\"/>\n",
       "<polygon fill=\"black\" points=\"2285.45,-71.1495 2275.24,-68.2996 2281.44,-76.891 2285.45,-71.1495\" stroke=\"black\"/>\n",
       "</g>\n",
       "<!-- 35 -->\n",
       "<g class=\"node\" id=\"node36\"><title>35</title>\n",
       "<polygon fill=\"#e58139\" fill-opacity=\"0.164706\" points=\"2454,-68 2315,-68 2315,-0 2454,-0 2454,-68\" stroke=\"black\"/>\n",
       "<text font-family=\"Times New Roman,serif\" font-size=\"14.00\" text-anchor=\"middle\" x=\"2384.5\" y=\"-52.8\">gini = 0.496</text>\n",
       "<text font-family=\"Times New Roman,serif\" font-size=\"14.00\" text-anchor=\"middle\" x=\"2384.5\" y=\"-37.8\">samples = 6.5%</text>\n",
       "<text font-family=\"Times New Roman,serif\" font-size=\"14.00\" text-anchor=\"middle\" x=\"2384.5\" y=\"-22.8\">value = [0.545, 0.455]</text>\n",
       "<text font-family=\"Times New Roman,serif\" font-size=\"14.00\" text-anchor=\"middle\" x=\"2384.5\" y=\"-7.8\">class = No</text>\n",
       "</g>\n",
       "<!-- 33&#45;&gt;35 -->\n",
       "<g class=\"edge\" id=\"edge35\"><title>33-&gt;35</title>\n",
       "<path d=\"M2384.5,-103.726C2384.5,-95.5175 2384.5,-86.8595 2384.5,-78.56\" fill=\"none\" stroke=\"black\"/>\n",
       "<polygon fill=\"black\" points=\"2388,-78.2996 2384.5,-68.2996 2381,-78.2996 2388,-78.2996\" stroke=\"black\"/>\n",
       "</g>\n",
       "<!-- 37 -->\n",
       "<g class=\"node\" id=\"node38\"><title>37</title>\n",
       "<polygon fill=\"#399de5\" fill-opacity=\"0.776471\" points=\"2611,-68 2472,-68 2472,-0 2611,-0 2611,-68\" stroke=\"black\"/>\n",
       "<text font-family=\"Times New Roman,serif\" font-size=\"14.00\" text-anchor=\"middle\" x=\"2541.5\" y=\"-52.8\">gini = 0.299</text>\n",
       "<text font-family=\"Times New Roman,serif\" font-size=\"14.00\" text-anchor=\"middle\" x=\"2541.5\" y=\"-37.8\">samples = 1.2%</text>\n",
       "<text font-family=\"Times New Roman,serif\" font-size=\"14.00\" text-anchor=\"middle\" x=\"2541.5\" y=\"-22.8\">value = [0.183, 0.817]</text>\n",
       "<text font-family=\"Times New Roman,serif\" font-size=\"14.00\" text-anchor=\"middle\" x=\"2541.5\" y=\"-7.8\">class = Yes</text>\n",
       "</g>\n",
       "<!-- 36&#45;&gt;37 -->\n",
       "<g class=\"edge\" id=\"edge37\"><title>36-&gt;37</title>\n",
       "<path d=\"M2596.1,-103.726C2589,-94.7878 2581.48,-85.3168 2574.36,-76.3558\" fill=\"none\" stroke=\"black\"/>\n",
       "<polygon fill=\"black\" points=\"2576.92,-73.9519 2567.96,-68.2996 2571.44,-78.3065 2576.92,-73.9519\" stroke=\"black\"/>\n",
       "</g>\n",
       "<!-- 38 -->\n",
       "<g class=\"node\" id=\"node39\"><title>38</title>\n",
       "<polygon fill=\"#e58139\" fill-opacity=\"0.725490\" points=\"2768,-68 2629,-68 2629,-0 2768,-0 2768,-68\" stroke=\"black\"/>\n",
       "<text font-family=\"Times New Roman,serif\" font-size=\"14.00\" text-anchor=\"middle\" x=\"2698.5\" y=\"-52.8\">gini = 0.337</text>\n",
       "<text font-family=\"Times New Roman,serif\" font-size=\"14.00\" text-anchor=\"middle\" x=\"2698.5\" y=\"-37.8\">samples = 0.1%</text>\n",
       "<text font-family=\"Times New Roman,serif\" font-size=\"14.00\" text-anchor=\"middle\" x=\"2698.5\" y=\"-22.8\">value = [0.786, 0.214]</text>\n",
       "<text font-family=\"Times New Roman,serif\" font-size=\"14.00\" text-anchor=\"middle\" x=\"2698.5\" y=\"-7.8\">class = No</text>\n",
       "</g>\n",
       "<!-- 36&#45;&gt;38 -->\n",
       "<g class=\"edge\" id=\"edge38\"><title>36-&gt;38</title>\n",
       "<path d=\"M2654.57,-103.726C2660.16,-94.9703 2666.09,-85.7032 2671.71,-76.9051\" fill=\"none\" stroke=\"black\"/>\n",
       "<polygon fill=\"black\" points=\"2674.78,-78.6103 2677.21,-68.2996 2668.88,-74.8399 2674.78,-78.6103\" stroke=\"black\"/>\n",
       "</g>\n",
       "<!-- 40 -->\n",
       "<g class=\"node\" id=\"node41\"><title>40</title>\n",
       "<polygon fill=\"#e58139\" fill-opacity=\"0.807843\" points=\"3004,-187 2865,-187 2865,-104 3004,-104 3004,-187\" stroke=\"black\"/>\n",
       "<text font-family=\"Times New Roman,serif\" font-size=\"14.00\" text-anchor=\"middle\" x=\"2934.5\" y=\"-171.8\">Partner_No &lt;= 0.5</text>\n",
       "<text font-family=\"Times New Roman,serif\" font-size=\"14.00\" text-anchor=\"middle\" x=\"2934.5\" y=\"-156.8\">gini = 0.271</text>\n",
       "<text font-family=\"Times New Roman,serif\" font-size=\"14.00\" text-anchor=\"middle\" x=\"2934.5\" y=\"-141.8\">samples = 3.9%</text>\n",
       "<text font-family=\"Times New Roman,serif\" font-size=\"14.00\" text-anchor=\"middle\" x=\"2934.5\" y=\"-126.8\">value = [0.838, 0.162]</text>\n",
       "<text font-family=\"Times New Roman,serif\" font-size=\"14.00\" text-anchor=\"middle\" x=\"2934.5\" y=\"-111.8\">class = No</text>\n",
       "</g>\n",
       "<!-- 39&#45;&gt;40 -->\n",
       "<g class=\"edge\" id=\"edge40\"><title>39-&gt;40</title>\n",
       "<path d=\"M2934.5,-222.907C2934.5,-214.649 2934.5,-205.864 2934.5,-197.302\" fill=\"none\" stroke=\"black\"/>\n",
       "<polygon fill=\"black\" points=\"2938,-197.021 2934.5,-187.021 2931,-197.021 2938,-197.021\" stroke=\"black\"/>\n",
       "</g>\n",
       "<!-- 43 -->\n",
       "<g class=\"node\" id=\"node44\"><title>43</title>\n",
       "<polygon fill=\"#e58139\" fill-opacity=\"0.070588\" points=\"3239,-187 3100,-187 3100,-104 3239,-104 3239,-187\" stroke=\"black\"/>\n",
       "<text font-family=\"Times New Roman,serif\" font-size=\"14.00\" text-anchor=\"middle\" x=\"3169.5\" y=\"-171.8\">tenure &lt;= 49.0</text>\n",
       "<text font-family=\"Times New Roman,serif\" font-size=\"14.00\" text-anchor=\"middle\" x=\"3169.5\" y=\"-156.8\">gini = 0.499</text>\n",
       "<text font-family=\"Times New Roman,serif\" font-size=\"14.00\" text-anchor=\"middle\" x=\"3169.5\" y=\"-141.8\">samples = 3.3%</text>\n",
       "<text font-family=\"Times New Roman,serif\" font-size=\"14.00\" text-anchor=\"middle\" x=\"3169.5\" y=\"-126.8\">value = [0.518, 0.482]</text>\n",
       "<text font-family=\"Times New Roman,serif\" font-size=\"14.00\" text-anchor=\"middle\" x=\"3169.5\" y=\"-111.8\">class = No</text>\n",
       "</g>\n",
       "<!-- 39&#45;&gt;43 -->\n",
       "<g class=\"edge\" id=\"edge43\"><title>39-&gt;43</title>\n",
       "<path d=\"M3016.03,-222.907C3040.25,-210.851 3066.72,-197.673 3090.75,-185.706\" fill=\"none\" stroke=\"black\"/>\n",
       "<polygon fill=\"black\" points=\"3092.44,-188.775 3099.83,-181.185 3089.32,-182.508 3092.44,-188.775\" stroke=\"black\"/>\n",
       "</g>\n",
       "<!-- 41 -->\n",
       "<g class=\"node\" id=\"node42\"><title>41</title>\n",
       "<polygon fill=\"#e58139\" fill-opacity=\"0.643137\" points=\"2925,-68 2786,-68 2786,-0 2925,-0 2925,-68\" stroke=\"black\"/>\n",
       "<text font-family=\"Times New Roman,serif\" font-size=\"14.00\" text-anchor=\"middle\" x=\"2855.5\" y=\"-52.8\">gini = 0.388</text>\n",
       "<text font-family=\"Times New Roman,serif\" font-size=\"14.00\" text-anchor=\"middle\" x=\"2855.5\" y=\"-37.8\">samples = 1.9%</text>\n",
       "<text font-family=\"Times New Roman,serif\" font-size=\"14.00\" text-anchor=\"middle\" x=\"2855.5\" y=\"-22.8\">value = [0.736, 0.264]</text>\n",
       "<text font-family=\"Times New Roman,serif\" font-size=\"14.00\" text-anchor=\"middle\" x=\"2855.5\" y=\"-7.8\">class = No</text>\n",
       "</g>\n",
       "<!-- 40&#45;&gt;41 -->\n",
       "<g class=\"edge\" id=\"edge41\"><title>40-&gt;41</title>\n",
       "<path d=\"M2905.08,-103.726C2898.7,-94.879 2891.94,-85.51 2885.53,-76.6303\" fill=\"none\" stroke=\"black\"/>\n",
       "<polygon fill=\"black\" points=\"2888.21,-74.3615 2879.52,-68.2996 2882.54,-78.4571 2888.21,-74.3615\" stroke=\"black\"/>\n",
       "</g>\n",
       "<!-- 42 -->\n",
       "<g class=\"node\" id=\"node43\"><title>42</title>\n",
       "<polygon fill=\"#e58139\" fill-opacity=\"0.952941\" points=\"3082,-68 2943,-68 2943,-0 3082,-0 3082,-68\" stroke=\"black\"/>\n",
       "<text font-family=\"Times New Roman,serif\" font-size=\"14.00\" text-anchor=\"middle\" x=\"3012.5\" y=\"-52.8\">gini = 0.088</text>\n",
       "<text font-family=\"Times New Roman,serif\" font-size=\"14.00\" text-anchor=\"middle\" x=\"3012.5\" y=\"-37.8\">samples = 2.0%</text>\n",
       "<text font-family=\"Times New Roman,serif\" font-size=\"14.00\" text-anchor=\"middle\" x=\"3012.5\" y=\"-22.8\">value = [0.954, 0.046]</text>\n",
       "<text font-family=\"Times New Roman,serif\" font-size=\"14.00\" text-anchor=\"middle\" x=\"3012.5\" y=\"-7.8\">class = No</text>\n",
       "</g>\n",
       "<!-- 40&#45;&gt;42 -->\n",
       "<g class=\"edge\" id=\"edge42\"><title>40-&gt;42</title>\n",
       "<path d=\"M2963.54,-103.726C2969.85,-94.879 2976.52,-85.51 2982.85,-76.6303\" fill=\"none\" stroke=\"black\"/>\n",
       "<polygon fill=\"black\" points=\"2985.83,-78.4751 2988.78,-68.2996 2980.13,-74.4138 2985.83,-78.4751\" stroke=\"black\"/>\n",
       "</g>\n",
       "<!-- 44 -->\n",
       "<g class=\"node\" id=\"node45\"><title>44</title>\n",
       "<polygon fill=\"#399de5\" fill-opacity=\"0.349020\" points=\"3239,-68 3100,-68 3100,-0 3239,-0 3239,-68\" stroke=\"black\"/>\n",
       "<text font-family=\"Times New Roman,serif\" font-size=\"14.00\" text-anchor=\"middle\" x=\"3169.5\" y=\"-52.8\">gini = 0.478</text>\n",
       "<text font-family=\"Times New Roman,serif\" font-size=\"14.00\" text-anchor=\"middle\" x=\"3169.5\" y=\"-37.8\">samples = 2.3%</text>\n",
       "<text font-family=\"Times New Roman,serif\" font-size=\"14.00\" text-anchor=\"middle\" x=\"3169.5\" y=\"-22.8\">value = [0.394, 0.606]</text>\n",
       "<text font-family=\"Times New Roman,serif\" font-size=\"14.00\" text-anchor=\"middle\" x=\"3169.5\" y=\"-7.8\">class = Yes</text>\n",
       "</g>\n",
       "<!-- 43&#45;&gt;44 -->\n",
       "<g class=\"edge\" id=\"edge44\"><title>43-&gt;44</title>\n",
       "<path d=\"M3169.5,-103.726C3169.5,-95.5175 3169.5,-86.8595 3169.5,-78.56\" fill=\"none\" stroke=\"black\"/>\n",
       "<polygon fill=\"black\" points=\"3173,-78.2996 3169.5,-68.2996 3166,-78.2996 3173,-78.2996\" stroke=\"black\"/>\n",
       "</g>\n",
       "<!-- 45 -->\n",
       "<g class=\"node\" id=\"node46\"><title>45</title>\n",
       "<polygon fill=\"#e58139\" fill-opacity=\"0.905882\" points=\"3396,-68 3257,-68 3257,-0 3396,-0 3396,-68\" stroke=\"black\"/>\n",
       "<text font-family=\"Times New Roman,serif\" font-size=\"14.00\" text-anchor=\"middle\" x=\"3326.5\" y=\"-52.8\">gini = 0.157</text>\n",
       "<text font-family=\"Times New Roman,serif\" font-size=\"14.00\" text-anchor=\"middle\" x=\"3326.5\" y=\"-37.8\">samples = 1.0%</text>\n",
       "<text font-family=\"Times New Roman,serif\" font-size=\"14.00\" text-anchor=\"middle\" x=\"3326.5\" y=\"-22.8\">value = [0.914, 0.086]</text>\n",
       "<text font-family=\"Times New Roman,serif\" font-size=\"14.00\" text-anchor=\"middle\" x=\"3326.5\" y=\"-7.8\">class = No</text>\n",
       "</g>\n",
       "<!-- 43&#45;&gt;45 -->\n",
       "<g class=\"edge\" id=\"edge45\"><title>43-&gt;45</title>\n",
       "<path d=\"M3227.96,-103.726C3241.82,-94.0582 3256.58,-83.767 3270.34,-74.172\" fill=\"none\" stroke=\"black\"/>\n",
       "<polygon fill=\"black\" points=\"3272.56,-76.891 3278.76,-68.2996 3268.55,-71.1495 3272.56,-76.891\" stroke=\"black\"/>\n",
       "</g>\n",
       "<!-- 47 -->\n",
       "<g class=\"node\" id=\"node48\"><title>47</title>\n",
       "<polygon fill=\"#399de5\" fill-opacity=\"0.792157\" points=\"3792,-306 3617,-306 3617,-223 3792,-223 3792,-306\" stroke=\"black\"/>\n",
       "<text font-family=\"Times New Roman,serif\" font-size=\"14.00\" text-anchor=\"middle\" x=\"3704.5\" y=\"-290.8\">InternetService_DSL &lt;= 0.5</text>\n",
       "<text font-family=\"Times New Roman,serif\" font-size=\"14.00\" text-anchor=\"middle\" x=\"3704.5\" y=\"-275.8\">gini = 0.285</text>\n",
       "<text font-family=\"Times New Roman,serif\" font-size=\"14.00\" text-anchor=\"middle\" x=\"3704.5\" y=\"-260.8\">samples = 17.7%</text>\n",
       "<text font-family=\"Times New Roman,serif\" font-size=\"14.00\" text-anchor=\"middle\" x=\"3704.5\" y=\"-245.8\">value = [0.172, 0.828]</text>\n",
       "<text font-family=\"Times New Roman,serif\" font-size=\"14.00\" text-anchor=\"middle\" x=\"3704.5\" y=\"-230.8\">class = Yes</text>\n",
       "</g>\n",
       "<!-- 46&#45;&gt;47 -->\n",
       "<g class=\"edge\" id=\"edge47\"><title>46-&gt;47</title>\n",
       "<path d=\"M3704.5,-341.907C3704.5,-333.649 3704.5,-324.864 3704.5,-316.302\" fill=\"none\" stroke=\"black\"/>\n",
       "<polygon fill=\"black\" points=\"3708,-316.021 3704.5,-306.021 3701,-316.021 3708,-316.021\" stroke=\"black\"/>\n",
       "</g>\n",
       "<!-- 54 -->\n",
       "<g class=\"node\" id=\"node55\"><title>54</title>\n",
       "<polygon fill=\"#399de5\" fill-opacity=\"0.419608\" points=\"4253.5,-306 4083.5,-306 4083.5,-223 4253.5,-223 4253.5,-306\" stroke=\"black\"/>\n",
       "<text font-family=\"Times New Roman,serif\" font-size=\"14.00\" text-anchor=\"middle\" x=\"4168.5\" y=\"-290.8\">MonthlyCharges &lt;= 75.975</text>\n",
       "<text font-family=\"Times New Roman,serif\" font-size=\"14.00\" text-anchor=\"middle\" x=\"4168.5\" y=\"-275.8\">gini = 0.465</text>\n",
       "<text font-family=\"Times New Roman,serif\" font-size=\"14.00\" text-anchor=\"middle\" x=\"4168.5\" y=\"-260.8\">samples = 20.7%</text>\n",
       "<text font-family=\"Times New Roman,serif\" font-size=\"14.00\" text-anchor=\"middle\" x=\"4168.5\" y=\"-245.8\">value = [0.368, 0.632]</text>\n",
       "<text font-family=\"Times New Roman,serif\" font-size=\"14.00\" text-anchor=\"middle\" x=\"4168.5\" y=\"-230.8\">class = Yes</text>\n",
       "</g>\n",
       "<!-- 46&#45;&gt;54 -->\n",
       "<g class=\"edge\" id=\"edge54\"><title>46-&gt;54</title>\n",
       "<path d=\"M3774.22,-364.921C3853.83,-344.845 3984.54,-311.887 4073.45,-289.468\" fill=\"none\" stroke=\"black\"/>\n",
       "<polygon fill=\"black\" points=\"4074.42,-292.832 4083.26,-286.993 4072.71,-286.044 4074.42,-292.832\" stroke=\"black\"/>\n",
       "</g>\n",
       "<!-- 48 -->\n",
       "<g class=\"node\" id=\"node49\"><title>48</title>\n",
       "<polygon fill=\"#399de5\" fill-opacity=\"0.874510\" points=\"3689,-187 3564,-187 3564,-104 3689,-104 3689,-187\" stroke=\"black\"/>\n",
       "<text font-family=\"Times New Roman,serif\" font-size=\"14.00\" text-anchor=\"middle\" x=\"3626.5\" y=\"-171.8\">tenure &lt;= 1.5</text>\n",
       "<text font-family=\"Times New Roman,serif\" font-size=\"14.00\" text-anchor=\"middle\" x=\"3626.5\" y=\"-156.8\">gini = 0.196</text>\n",
       "<text font-family=\"Times New Roman,serif\" font-size=\"14.00\" text-anchor=\"middle\" x=\"3626.5\" y=\"-141.8\">samples = 10.6%</text>\n",
       "<text font-family=\"Times New Roman,serif\" font-size=\"14.00\" text-anchor=\"middle\" x=\"3626.5\" y=\"-126.8\">value = [0.11, 0.89]</text>\n",
       "<text font-family=\"Times New Roman,serif\" font-size=\"14.00\" text-anchor=\"middle\" x=\"3626.5\" y=\"-111.8\">class = Yes</text>\n",
       "</g>\n",
       "<!-- 47&#45;&gt;48 -->\n",
       "<g class=\"edge\" id=\"edge48\"><title>47-&gt;48</title>\n",
       "<path d=\"M3677.44,-222.907C3671.57,-214.105 3665.3,-204.703 3659.24,-195.612\" fill=\"none\" stroke=\"black\"/>\n",
       "<polygon fill=\"black\" points=\"3661.97,-193.4 3653.51,-187.021 3656.15,-197.283 3661.97,-193.4\" stroke=\"black\"/>\n",
       "</g>\n",
       "<!-- 51 -->\n",
       "<g class=\"node\" id=\"node52\"><title>51</title>\n",
       "<polygon fill=\"#399de5\" fill-opacity=\"0.592157\" points=\"3846,-187 3721,-187 3721,-104 3846,-104 3846,-187\" stroke=\"black\"/>\n",
       "<text font-family=\"Times New Roman,serif\" font-size=\"14.00\" text-anchor=\"middle\" x=\"3783.5\" y=\"-171.8\">tenure &lt;= 4.5</text>\n",
       "<text font-family=\"Times New Roman,serif\" font-size=\"14.00\" text-anchor=\"middle\" x=\"3783.5\" y=\"-156.8\">gini = 0.411</text>\n",
       "<text font-family=\"Times New Roman,serif\" font-size=\"14.00\" text-anchor=\"middle\" x=\"3783.5\" y=\"-141.8\">samples = 7.1%</text>\n",
       "<text font-family=\"Times New Roman,serif\" font-size=\"14.00\" text-anchor=\"middle\" x=\"3783.5\" y=\"-126.8\">value = [0.29, 0.71]</text>\n",
       "<text font-family=\"Times New Roman,serif\" font-size=\"14.00\" text-anchor=\"middle\" x=\"3783.5\" y=\"-111.8\">class = Yes</text>\n",
       "</g>\n",
       "<!-- 47&#45;&gt;51 -->\n",
       "<g class=\"edge\" id=\"edge51\"><title>47-&gt;51</title>\n",
       "<path d=\"M3731.91,-222.907C3737.91,-214.014 3744.33,-204.509 3750.53,-195.331\" fill=\"none\" stroke=\"black\"/>\n",
       "<polygon fill=\"black\" points=\"3753.44,-197.267 3756.14,-187.021 3747.64,-193.35 3753.44,-197.267\" stroke=\"black\"/>\n",
       "</g>\n",
       "<!-- 49 -->\n",
       "<g class=\"node\" id=\"node50\"><title>49</title>\n",
       "<polygon fill=\"#399de5\" fill-opacity=\"0.968627\" points=\"3539,-68 3414,-68 3414,-0 3539,-0 3539,-68\" stroke=\"black\"/>\n",
       "<text font-family=\"Times New Roman,serif\" font-size=\"14.00\" text-anchor=\"middle\" x=\"3476.5\" y=\"-52.8\">gini = 0.058</text>\n",
       "<text font-family=\"Times New Roman,serif\" font-size=\"14.00\" text-anchor=\"middle\" x=\"3476.5\" y=\"-37.8\">samples = 3.1%</text>\n",
       "<text font-family=\"Times New Roman,serif\" font-size=\"14.00\" text-anchor=\"middle\" x=\"3476.5\" y=\"-22.8\">value = [0.03, 0.97]</text>\n",
       "<text font-family=\"Times New Roman,serif\" font-size=\"14.00\" text-anchor=\"middle\" x=\"3476.5\" y=\"-7.8\">class = Yes</text>\n",
       "</g>\n",
       "<!-- 48&#45;&gt;49 -->\n",
       "<g class=\"edge\" id=\"edge49\"><title>48-&gt;49</title>\n",
       "<path d=\"M3570.65,-103.726C3557.53,-94.1494 3543.57,-83.9611 3530.53,-74.4438\" fill=\"none\" stroke=\"black\"/>\n",
       "<polygon fill=\"black\" points=\"3532.26,-71.3688 3522.12,-68.2996 3528.13,-77.0227 3532.26,-71.3688\" stroke=\"black\"/>\n",
       "</g>\n",
       "<!-- 50 -->\n",
       "<g class=\"node\" id=\"node51\"><title>50</title>\n",
       "<polygon fill=\"#399de5\" fill-opacity=\"0.823529\" points=\"3696,-68 3557,-68 3557,-0 3696,-0 3696,-68\" stroke=\"black\"/>\n",
       "<text font-family=\"Times New Roman,serif\" font-size=\"14.00\" text-anchor=\"middle\" x=\"3626.5\" y=\"-52.8\">gini = 0.257</text>\n",
       "<text font-family=\"Times New Roman,serif\" font-size=\"14.00\" text-anchor=\"middle\" x=\"3626.5\" y=\"-37.8\">samples = 7.4%</text>\n",
       "<text font-family=\"Times New Roman,serif\" font-size=\"14.00\" text-anchor=\"middle\" x=\"3626.5\" y=\"-22.8\">value = [0.151, 0.849]</text>\n",
       "<text font-family=\"Times New Roman,serif\" font-size=\"14.00\" text-anchor=\"middle\" x=\"3626.5\" y=\"-7.8\">class = Yes</text>\n",
       "</g>\n",
       "<!-- 48&#45;&gt;50 -->\n",
       "<g class=\"edge\" id=\"edge50\"><title>48-&gt;50</title>\n",
       "<path d=\"M3626.5,-103.726C3626.5,-95.5175 3626.5,-86.8595 3626.5,-78.56\" fill=\"none\" stroke=\"black\"/>\n",
       "<polygon fill=\"black\" points=\"3630,-78.2996 3626.5,-68.2996 3623,-78.2996 3630,-78.2996\" stroke=\"black\"/>\n",
       "</g>\n",
       "<!-- 52 -->\n",
       "<g class=\"node\" id=\"node53\"><title>52</title>\n",
       "<polygon fill=\"#399de5\" fill-opacity=\"0.682353\" points=\"3853,-68 3714,-68 3714,-0 3853,-0 3853,-68\" stroke=\"black\"/>\n",
       "<text font-family=\"Times New Roman,serif\" font-size=\"14.00\" text-anchor=\"middle\" x=\"3783.5\" y=\"-52.8\">gini = 0.367</text>\n",
       "<text font-family=\"Times New Roman,serif\" font-size=\"14.00\" text-anchor=\"middle\" x=\"3783.5\" y=\"-37.8\">samples = 5.1%</text>\n",
       "<text font-family=\"Times New Roman,serif\" font-size=\"14.00\" text-anchor=\"middle\" x=\"3783.5\" y=\"-22.8\">value = [0.242, 0.758]</text>\n",
       "<text font-family=\"Times New Roman,serif\" font-size=\"14.00\" text-anchor=\"middle\" x=\"3783.5\" y=\"-7.8\">class = Yes</text>\n",
       "</g>\n",
       "<!-- 51&#45;&gt;52 -->\n",
       "<g class=\"edge\" id=\"edge52\"><title>51-&gt;52</title>\n",
       "<path d=\"M3783.5,-103.726C3783.5,-95.5175 3783.5,-86.8595 3783.5,-78.56\" fill=\"none\" stroke=\"black\"/>\n",
       "<polygon fill=\"black\" points=\"3787,-78.2996 3783.5,-68.2996 3780,-78.2996 3787,-78.2996\" stroke=\"black\"/>\n",
       "</g>\n",
       "<!-- 53 -->\n",
       "<g class=\"node\" id=\"node54\"><title>53</title>\n",
       "<polygon fill=\"#399de5\" fill-opacity=\"0.176471\" points=\"4010,-68 3871,-68 3871,-0 4010,-0 4010,-68\" stroke=\"black\"/>\n",
       "<text font-family=\"Times New Roman,serif\" font-size=\"14.00\" text-anchor=\"middle\" x=\"3940.5\" y=\"-52.8\">gini = 0.495</text>\n",
       "<text font-family=\"Times New Roman,serif\" font-size=\"14.00\" text-anchor=\"middle\" x=\"3940.5\" y=\"-37.8\">samples = 2.0%</text>\n",
       "<text font-family=\"Times New Roman,serif\" font-size=\"14.00\" text-anchor=\"middle\" x=\"3940.5\" y=\"-22.8\">value = [0.451, 0.549]</text>\n",
       "<text font-family=\"Times New Roman,serif\" font-size=\"14.00\" text-anchor=\"middle\" x=\"3940.5\" y=\"-7.8\">class = Yes</text>\n",
       "</g>\n",
       "<!-- 51&#45;&gt;53 -->\n",
       "<g class=\"edge\" id=\"edge53\"><title>51-&gt;53</title>\n",
       "<path d=\"M3841.96,-103.726C3855.82,-94.0582 3870.58,-83.767 3884.34,-74.172\" fill=\"none\" stroke=\"black\"/>\n",
       "<polygon fill=\"black\" points=\"3886.56,-76.891 3892.76,-68.2996 3882.55,-71.1495 3886.56,-76.891\" stroke=\"black\"/>\n",
       "</g>\n",
       "<!-- 55 -->\n",
       "<g class=\"node\" id=\"node56\"><title>55</title>\n",
       "<polygon fill=\"#e58139\" fill-opacity=\"0.019608\" points=\"4238,-187 4099,-187 4099,-104 4238,-104 4238,-187\" stroke=\"black\"/>\n",
       "<text font-family=\"Times New Roman,serif\" font-size=\"14.00\" text-anchor=\"middle\" x=\"4168.5\" y=\"-171.8\">tenure &lt;= 14.5</text>\n",
       "<text font-family=\"Times New Roman,serif\" font-size=\"14.00\" text-anchor=\"middle\" x=\"4168.5\" y=\"-156.8\">gini = 0.5</text>\n",
       "<text font-family=\"Times New Roman,serif\" font-size=\"14.00\" text-anchor=\"middle\" x=\"4168.5\" y=\"-141.8\">samples = 8.0%</text>\n",
       "<text font-family=\"Times New Roman,serif\" font-size=\"14.00\" text-anchor=\"middle\" x=\"4168.5\" y=\"-126.8\">value = [0.505, 0.495]</text>\n",
       "<text font-family=\"Times New Roman,serif\" font-size=\"14.00\" text-anchor=\"middle\" x=\"4168.5\" y=\"-111.8\">class = No</text>\n",
       "</g>\n",
       "<!-- 54&#45;&gt;55 -->\n",
       "<g class=\"edge\" id=\"edge55\"><title>54-&gt;55</title>\n",
       "<path d=\"M4168.5,-222.907C4168.5,-214.649 4168.5,-205.864 4168.5,-197.302\" fill=\"none\" stroke=\"black\"/>\n",
       "<polygon fill=\"black\" points=\"4172,-197.021 4168.5,-187.021 4165,-197.021 4172,-197.021\" stroke=\"black\"/>\n",
       "</g>\n",
       "<!-- 58 -->\n",
       "<g class=\"node\" id=\"node59\"><title>58</title>\n",
       "<polygon fill=\"#399de5\" fill-opacity=\"0.576471\" points=\"4467,-187 4328,-187 4328,-104 4467,-104 4467,-187\" stroke=\"black\"/>\n",
       "<text font-family=\"Times New Roman,serif\" font-size=\"14.00\" text-anchor=\"middle\" x=\"4397.5\" y=\"-171.8\">tenure &lt;= 28.5</text>\n",
       "<text font-family=\"Times New Roman,serif\" font-size=\"14.00\" text-anchor=\"middle\" x=\"4397.5\" y=\"-156.8\">gini = 0.418</text>\n",
       "<text font-family=\"Times New Roman,serif\" font-size=\"14.00\" text-anchor=\"middle\" x=\"4397.5\" y=\"-141.8\">samples = 12.8%</text>\n",
       "<text font-family=\"Times New Roman,serif\" font-size=\"14.00\" text-anchor=\"middle\" x=\"4397.5\" y=\"-126.8\">value = [0.297, 0.703]</text>\n",
       "<text font-family=\"Times New Roman,serif\" font-size=\"14.00\" text-anchor=\"middle\" x=\"4397.5\" y=\"-111.8\">class = Yes</text>\n",
       "</g>\n",
       "<!-- 54&#45;&gt;58 -->\n",
       "<g class=\"edge\" id=\"edge58\"><title>54-&gt;58</title>\n",
       "<path d=\"M4247.95,-222.907C4270.87,-211.196 4295.87,-198.425 4318.75,-186.735\" fill=\"none\" stroke=\"black\"/>\n",
       "<polygon fill=\"black\" points=\"4320.43,-189.809 4327.74,-182.142 4317.24,-183.575 4320.43,-189.809\" stroke=\"black\"/>\n",
       "</g>\n",
       "<!-- 56 -->\n",
       "<g class=\"node\" id=\"node57\"><title>56</title>\n",
       "<polygon fill=\"#e58139\" fill-opacity=\"0.509804\" points=\"4167,-68 4028,-68 4028,-0 4167,-0 4167,-68\" stroke=\"black\"/>\n",
       "<text font-family=\"Times New Roman,serif\" font-size=\"14.00\" text-anchor=\"middle\" x=\"4097.5\" y=\"-52.8\">gini = 0.441</text>\n",
       "<text font-family=\"Times New Roman,serif\" font-size=\"14.00\" text-anchor=\"middle\" x=\"4097.5\" y=\"-37.8\">samples = 1.6%</text>\n",
       "<text font-family=\"Times New Roman,serif\" font-size=\"14.00\" text-anchor=\"middle\" x=\"4097.5\" y=\"-22.8\">value = [0.671, 0.329]</text>\n",
       "<text font-family=\"Times New Roman,serif\" font-size=\"14.00\" text-anchor=\"middle\" x=\"4097.5\" y=\"-7.8\">class = No</text>\n",
       "</g>\n",
       "<!-- 55&#45;&gt;56 -->\n",
       "<g class=\"edge\" id=\"edge56\"><title>55-&gt;56</title>\n",
       "<path d=\"M4142.06,-103.726C4136.38,-94.9703 4130.38,-85.7032 4124.67,-76.9051\" fill=\"none\" stroke=\"black\"/>\n",
       "<polygon fill=\"black\" points=\"4127.47,-74.786 4119.09,-68.2996 4121.6,-78.5943 4127.47,-74.786\" stroke=\"black\"/>\n",
       "</g>\n",
       "<!-- 57 -->\n",
       "<g class=\"node\" id=\"node58\"><title>57</title>\n",
       "<polygon fill=\"#399de5\" fill-opacity=\"0.113725\" points=\"4310,-68 4185,-68 4185,-0 4310,-0 4310,-68\" stroke=\"black\"/>\n",
       "<text font-family=\"Times New Roman,serif\" font-size=\"14.00\" text-anchor=\"middle\" x=\"4247.5\" y=\"-52.8\">gini = 0.498</text>\n",
       "<text font-family=\"Times New Roman,serif\" font-size=\"14.00\" text-anchor=\"middle\" x=\"4247.5\" y=\"-37.8\">samples = 6.4%</text>\n",
       "<text font-family=\"Times New Roman,serif\" font-size=\"14.00\" text-anchor=\"middle\" x=\"4247.5\" y=\"-22.8\">value = [0.47, 0.53]</text>\n",
       "<text font-family=\"Times New Roman,serif\" font-size=\"14.00\" text-anchor=\"middle\" x=\"4247.5\" y=\"-7.8\">class = Yes</text>\n",
       "</g>\n",
       "<!-- 55&#45;&gt;57 -->\n",
       "<g class=\"edge\" id=\"edge57\"><title>55-&gt;57</title>\n",
       "<path d=\"M4197.92,-103.726C4204.3,-94.879 4211.06,-85.51 4217.47,-76.6303\" fill=\"none\" stroke=\"black\"/>\n",
       "<polygon fill=\"black\" points=\"4220.46,-78.4571 4223.48,-68.2996 4214.79,-74.3615 4220.46,-78.4571\" stroke=\"black\"/>\n",
       "</g>\n",
       "<!-- 59 -->\n",
       "<g class=\"node\" id=\"node60\"><title>59</title>\n",
       "<polygon fill=\"#399de5\" fill-opacity=\"0.725490\" points=\"4467,-68 4328,-68 4328,-0 4467,-0 4467,-68\" stroke=\"black\"/>\n",
       "<text font-family=\"Times New Roman,serif\" font-size=\"14.00\" text-anchor=\"middle\" x=\"4397.5\" y=\"-52.8\">gini = 0.337</text>\n",
       "<text font-family=\"Times New Roman,serif\" font-size=\"14.00\" text-anchor=\"middle\" x=\"4397.5\" y=\"-37.8\">samples = 5.8%</text>\n",
       "<text font-family=\"Times New Roman,serif\" font-size=\"14.00\" text-anchor=\"middle\" x=\"4397.5\" y=\"-22.8\">value = [0.215, 0.785]</text>\n",
       "<text font-family=\"Times New Roman,serif\" font-size=\"14.00\" text-anchor=\"middle\" x=\"4397.5\" y=\"-7.8\">class = Yes</text>\n",
       "</g>\n",
       "<!-- 58&#45;&gt;59 -->\n",
       "<g class=\"edge\" id=\"edge59\"><title>58-&gt;59</title>\n",
       "<path d=\"M4397.5,-103.726C4397.5,-95.5175 4397.5,-86.8595 4397.5,-78.56\" fill=\"none\" stroke=\"black\"/>\n",
       "<polygon fill=\"black\" points=\"4401,-78.2996 4397.5,-68.2996 4394,-78.2996 4401,-78.2996\" stroke=\"black\"/>\n",
       "</g>\n",
       "<!-- 60 -->\n",
       "<g class=\"node\" id=\"node61\"><title>60</title>\n",
       "<polygon fill=\"#399de5\" fill-opacity=\"0.384314\" points=\"4624,-68 4485,-68 4485,-0 4624,-0 4624,-68\" stroke=\"black\"/>\n",
       "<text font-family=\"Times New Roman,serif\" font-size=\"14.00\" text-anchor=\"middle\" x=\"4554.5\" y=\"-52.8\">gini = 0.472</text>\n",
       "<text font-family=\"Times New Roman,serif\" font-size=\"14.00\" text-anchor=\"middle\" x=\"4554.5\" y=\"-37.8\">samples = 6.9%</text>\n",
       "<text font-family=\"Times New Roman,serif\" font-size=\"14.00\" text-anchor=\"middle\" x=\"4554.5\" y=\"-22.8\">value = [0.381, 0.619]</text>\n",
       "<text font-family=\"Times New Roman,serif\" font-size=\"14.00\" text-anchor=\"middle\" x=\"4554.5\" y=\"-7.8\">class = Yes</text>\n",
       "</g>\n",
       "<!-- 58&#45;&gt;60 -->\n",
       "<g class=\"edge\" id=\"edge60\"><title>58-&gt;60</title>\n",
       "<path d=\"M4455.96,-103.726C4469.82,-94.0582 4484.58,-83.767 4498.34,-74.172\" fill=\"none\" stroke=\"black\"/>\n",
       "<polygon fill=\"black\" points=\"4500.56,-76.891 4506.76,-68.2996 4496.55,-71.1495 4500.56,-76.891\" stroke=\"black\"/>\n",
       "</g>\n",
       "</g>\n",
       "</svg>"
      ],
      "text/plain": [
       "<IPython.core.display.SVG object>"
      ]
     },
     "metadata": {},
     "output_type": "display_data"
    }
   ],
   "source": [
    "# Plot the decision tree\n",
    "from IPython.display import SVG\n",
    "from IPython.display import display\n",
    "from sklearn.tree import export_graphviz\n",
    "from sklearn import tree\n",
    "from graphviz import Source\n",
    "import os\n",
    "os.environ['PATH'] += os.pathsep + r'C:\\Softwares_Installed\\Anaconda3\\pkgs\\graphviz-2.38.0-4\\Library\\bin\\graphviz'\n",
    "\n",
    "estimator = forest_clf.estimators_[1]\n",
    "\n",
    "graph = Source(tree.export_graphviz(estimator, out_file=None,\n",
    "                                    feature_names=strat_train_X.columns, class_names=['No','Yes'],\n",
    "                                    proportion=True, filled = True))\n",
    "\n",
    "display(SVG(graph.pipe(format='svg')))"
   ]
  },
  {
   "cell_type": "markdown",
   "metadata": {},
   "source": [
    "### Now trying Gradient Boosting"
   ]
  },
  {
   "cell_type": "code",
   "execution_count": 28,
   "metadata": {},
   "outputs": [
    {
     "name": "stdout",
     "output_type": "stream",
     "text": [
      "Fitting 3 folds for each of 128 candidates, totalling 384 fits\n"
     ]
    },
    {
     "name": "stderr",
     "output_type": "stream",
     "text": [
      "[Parallel(n_jobs=-1)]: Using backend LokyBackend with 4 concurrent workers.\n",
      "[Parallel(n_jobs=-1)]: Done  42 tasks      | elapsed:  1.8min\n",
      "[Parallel(n_jobs=-1)]: Done 192 tasks      | elapsed:  9.7min\n",
      "[Parallel(n_jobs=-1)]: Done 384 out of 384 | elapsed: 16.4min finished\n"
     ]
    },
    {
     "name": "stdout",
     "output_type": "stream",
     "text": [
      "grid_search.best_params_ = {'learning_rate': 0.1, 'loss': 'deviance', 'max_depth': 2, 'max_features': 0.8}\n",
      "grid_search.best_score_ = 0.8490748837781542\n",
      "grid_search.best_estimator_ = GradientBoostingClassifier(criterion='friedman_mse', init=None,\n",
      "              learning_rate=0.1, loss='deviance', max_depth=2,\n",
      "              max_features=0.8, max_leaf_nodes=None,\n",
      "              min_impurity_decrease=0.0, min_impurity_split=None,\n",
      "              min_samples_leaf=1, min_samples_split=2,\n",
      "              min_weight_fraction_leaf=0.0, n_estimators=100,\n",
      "              n_iter_no_change=None, presort='auto', random_state=None,\n",
      "              subsample=1.0, tol=0.0001, validation_fraction=0.1,\n",
      "              verbose=0, warm_start=False)\n"
     ]
    }
   ],
   "source": [
    "# GridSearchCV to find optimal parameters on GradientBoostingClassifier\n",
    "from sklearn.model_selection import GridSearchCV\n",
    "from sklearn.ensemble import GradientBoostingClassifier\n",
    "\n",
    "param_grid = [{'learning_rate': [0.01, 0.03, 0.1, 0.3], 'max_features': [0.2, 0.5, 0.8, 1.0],\n",
    "               'loss': ['deviance', 'exponential'], 'max_depth': [2, 5, 10, 20]\n",
    "              }]\n",
    "\n",
    "gdb_gs_clf = GradientBoostingClassifier()\n",
    "grid_search = GridSearchCV(gdb_gs_clf, param_grid, cv=3, n_jobs=-1, verbose=1, scoring='roc_auc')\n",
    "grid_search.fit(train_data_encoded_X, train_data_encoded_y.values.ravel())\n",
    "\n",
    "print(\"grid_search.best_params_ =\", grid_search.best_params_)\n",
    "print(\"grid_search.best_score_ =\", grid_search.best_score_)\n",
    "print(\"grid_search.best_estimator_ =\", grid_search.best_estimator_)"
   ]
  },
  {
   "cell_type": "markdown",
   "metadata": {},
   "source": [
    "### And Logistic Regression"
   ]
  },
  {
   "cell_type": "code",
   "execution_count": 54,
   "metadata": {},
   "outputs": [
    {
     "name": "stdout",
     "output_type": "stream",
     "text": [
      "Fitting 5 folds for each of 40 candidates, totalling 200 fits\n"
     ]
    },
    {
     "name": "stderr",
     "output_type": "stream",
     "text": [
      "[Parallel(n_jobs=-1)]: Using backend LokyBackend with 4 concurrent workers.\n",
      "[Parallel(n_jobs=-1)]: Done  42 tasks      | elapsed:   29.5s\n",
      "[Parallel(n_jobs=-1)]: Done 192 tasks      | elapsed:  1.9min\n",
      "[Parallel(n_jobs=-1)]: Done 200 out of 200 | elapsed:  2.0min finished\n"
     ]
    },
    {
     "name": "stdout",
     "output_type": "stream",
     "text": [
      "grid_search.best_params_ = {'C': 0.1, 'fit_intercept': True, 'solver': 'lbfgs'}\n",
      "grid_search.best_score_ = 0.7492545790146244\n",
      "grid_search.best_estimator_ = LogisticRegression(C=0.1, class_weight='balanced', dual=False,\n",
      "          fit_intercept=True, intercept_scaling=1, max_iter=500,\n",
      "          multi_class='warn', n_jobs=None, penalty='l2', random_state=1,\n",
      "          solver='lbfgs', tol=0.0001, verbose=0, warm_start=False)\n"
     ]
    }
   ],
   "source": [
    "# GridSearchCV to find optimal parameters on LogisticRegression\n",
    "from sklearn.model_selection import GridSearchCV\n",
    "\n",
    "param_grid = [{'fit_intercept': [True, False],\n",
    "               #'max_iter': [100, 500, 1000, 5000, 10000],\n",
    "               'solver': ['newton-cg', 'lbfgs', 'liblinear', 'sag', 'saga'],\n",
    "               'C': [1.0, 0.5, 0.1, 2.0],\n",
    "              }]\n",
    "\n",
    "logreg_gs_clf = LogisticRegression(max_iter=500, class_weight='balanced', random_state=1)\n",
    "grid_search = GridSearchCV(logreg_gs_clf, param_grid, cv=5, n_jobs=-1, verbose=1)\n",
    "grid_search.fit(train_data_encoded_X, train_data_encoded_y.values.ravel())\n",
    "\n",
    "print(\"grid_search.best_params_ =\", grid_search.best_params_)\n",
    "print(\"grid_search.best_score_ =\", grid_search.best_score_)\n",
    "print(\"grid_search.best_estimator_ =\", grid_search.best_estimator_)"
   ]
  },
  {
   "cell_type": "markdown",
   "metadata": {},
   "source": [
    "### Voting Classifier"
   ]
  },
  {
   "cell_type": "code",
   "execution_count": 65,
   "metadata": {},
   "outputs": [
    {
     "name": "stdout",
     "output_type": "stream",
     "text": [
      "Soft Voting on Train with Stratified Split: (0.6075360321210199, 0.7391874180865007, 0.7545150501672241, 0.746772591857001, 0.8291782788888791)\n",
      "Soft Voting on Test Stratified Split: (0.6080423879541486, 0.6026315789473684, 0.6122994652406417, 0.6074270557029178, 0.7332028727169392)\n"
     ]
    }
   ],
   "source": [
    "# Voting classifier ensemble to with multiple classifiers\n",
    "from sklearn.ensemble import VotingClassifier\n",
    "svc_clf = SVC(probability=True)\n",
    "\n",
    "from sklearn.linear_model import SGDClassifier\n",
    "sgd_clf = SGDClassifier(max_iter=1000, tol=1e-3, loss='log')\n",
    "\n",
    "from sklearn.linear_model import LogisticRegression\n",
    "logreg_clf = LogisticRegression(C=0.1, fit_intercept=False, solver='newton-cg')\n",
    "\n",
    "from sklearn.tree import DecisionTreeClassifier\n",
    "tree_clf = DecisionTreeClassifier()\n",
    "\n",
    "from sklearn.ensemble import RandomForestClassifier\n",
    "forest_clf = RandomForestClassifier(max_depth=5, max_features=None, n_estimators=100)\n",
    "\n",
    "from sklearn.neighbors import KNeighborsClassifier\n",
    "knn_clf = KNeighborsClassifier(weights='distance', n_neighbors=4)\n",
    "\n",
    "from sklearn.neural_network import MLPClassifier\n",
    "mlp_clf = MLPClassifier(hidden_layer_sizes=(1000,500,200,100,50,7), max_iter=500, early_stopping=True, random_state=1)\n",
    "\n",
    "gnb_clf = GaussianNB()\n",
    "\n",
    "estimators=[('sgd', sgd_clf), ('knn', knn_clf), ('gnb', gnb_clf), ('svc', svc_clf),\n",
    "            ('logreg', logreg_clf), ('mlp', mlp_clf), ('forest', forest_clf)]\n",
    "voting_soft_clf = VotingClassifier(estimators=estimators, voting='soft')\n",
    "voting_soft_clf.fit(strat_train_X, strat_train_y)\n",
    "\n",
    "print(\"Soft Voting on Train with Stratified Split:\", checkClassifierModelAccuracy(voting_soft_clf, strat_train_X, strat_train_y))\n",
    "print(\"Soft Voting on Test Stratified Split:\", checkClassifierModelAccuracy(voting_soft_clf, strat_test_X, strat_test_y))"
   ]
  },
  {
   "cell_type": "markdown",
   "metadata": {},
   "source": [
    "### MLP Classifier"
   ]
  },
  {
   "cell_type": "code",
   "execution_count": 66,
   "metadata": {},
   "outputs": [
    {
     "name": "stdout",
     "output_type": "stream",
     "text": [
      "MLP on Train with Stratified Split: (0.624112074252765, 0.6435568952524491, 0.57123745819398, 0.6052445074415309, 0.7284793234434506)\n",
      "MLP on Test Stratified Split: (0.627020557795093, 0.6439628482972136, 0.5561497326203209, 0.5968436154949784, 0.7225193107546047)\n"
     ]
    }
   ],
   "source": [
    "# MLP with multiple hidden layers\n",
    "from sklearn.neural_network import MLPClassifier\n",
    "mlp_clf = MLPClassifier(hidden_layer_sizes=(1000,500,200,100,50,7), max_iter=500, early_stopping=True, random_state=1)\n",
    "mlp_clf.fit(strat_train_X, strat_train_y)\n",
    "\n",
    "print(\"MLP on Train with Stratified Split:\", checkClassifierModelAccuracy(mlp_clf, strat_train_X, strat_train_y))\n",
    "print(\"MLP on Test Stratified Split:\", checkClassifierModelAccuracy(mlp_clf, strat_test_X, strat_test_y))"
   ]
  },
  {
   "cell_type": "markdown",
   "metadata": {},
   "source": [
    "### Drop least important features and try"
   ]
  },
  {
   "cell_type": "code",
   "execution_count": 125,
   "metadata": {},
   "outputs": [
    {
     "data": {
      "text/plain": [
       "0.27466288147622425"
      ]
     },
     "execution_count": 125,
     "metadata": {},
     "output_type": "execute_result"
    }
   ],
   "source": [
    "y_pred = voting_soft_clf.predict(strat_test_X)\n",
    "sum(y_pred == 1)/len(strat_test_X)"
   ]
  }
 ],
 "metadata": {
  "kernelspec": {
   "display_name": "Python 3",
   "language": "python",
   "name": "python3"
  },
  "language_info": {
   "codemirror_mode": {
    "name": "ipython",
    "version": 3
   },
   "file_extension": ".py",
   "mimetype": "text/x-python",
   "name": "python",
   "nbconvert_exporter": "python",
   "pygments_lexer": "ipython3",
   "version": "3.7.0"
  }
 },
 "nbformat": 4,
 "nbformat_minor": 2
}
